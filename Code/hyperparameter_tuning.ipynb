{
 "cells": [
  {
   "cell_type": "code",
   "execution_count": 1,
   "id": "f871af03-5ad4-4807-bd7a-515ce75391fb",
   "metadata": {},
   "outputs": [
    {
     "name": "stdout",
     "output_type": "stream",
     "text": [
      "E:\\SRP\n"
     ]
    }
   ],
   "source": [
    "%cd E:\\SRP\n",
    "import os,sys\n",
    "notebook_dir = os.getcwd()\n",
    "path = os.path.abspath(os.path.join(notebook_dir, \"Code\"))\n",
    "sys.path.append(path)\n",
    "import optuna\n",
    "from sklearn.model_selection import StratifiedKFold\n",
    "from sklearn.metrics import roc_auc_score,roc_curve,classification_report\n",
    "from generateSplits import generateSplits\n",
    "import pandas as pd\n",
    "from trainModel import trainModel\n",
    "from Dataset import ModelDataset\n",
    "from model import Model\n",
    "from torch.utils.data import DataLoader\n",
    "import torch\n",
    "import matplotlib.pyplot as plt\n",
    "from optuna.storages import RDBStorage,RetryFailedTrialCallback\n",
    "import logging\n",
    "import gc"
   ]
  },
  {
   "cell_type": "code",
   "execution_count": 2,
   "id": "f0cc27f1-af7f-4564-9730-c1c94f2a04fe",
   "metadata": {},
   "outputs": [],
   "source": [
    "device = torch.device(\"cuda\") if torch.cuda.is_available else torch.device(\"cpu\")\n",
    "\n",
    "metadata = pd.read_csv(\"Datasets/BreastDCEDL_spy1/BreastDCEDL_spy1_metadata.csv\")\n",
    "train_df,val_df = generateSplits(metadata,0.2,seed=42)\n",
    "train_df = train_df[[\"pid\",\"pCR\",\"ER\",\"PR\",\"HER2\"]].set_index(\"pid\",drop=True)\n",
    "val_df = val_df[[\"pid\",\"pCR\",\"ER\",\"PR\",\"HER2\"]].set_index(\"pid\",drop=True)\n",
    "skf = StratifiedKFold(n_splits=4,shuffle=True,random_state=42)\n",
    "backup_path = \"study_backup.db\""
   ]
  },
  {
   "cell_type": "code",
   "execution_count": 3,
   "id": "5010e72b-842e-49bb-9ebb-441e7381ec6a",
   "metadata": {},
   "outputs": [],
   "source": [
    "def evaluate(model:torch.nn.Module,val_loader:torch.utils.data.DataLoader):\n",
    "    model.eval()\n",
    "    model.to(device)\n",
    "    \n",
    "    y_score = []\n",
    "    y_true = []\n",
    "    y_pred = []\n",
    "    with torch.no_grad():\n",
    "        for images,mols,labels in val_loader:\n",
    "            images = images.to(device)\n",
    "            mols = mols.to(device)\n",
    "            logits = model(images,mols)\n",
    "            scores = torch.nn.functional.softmax(logits,dim=1)[:,1]\n",
    "            y_score.extend(scores.cpu().numpy())\n",
    "            y_true.extend(labels.cpu().numpy())\n",
    "    \n",
    "    return roc_auc_score(y_true,y_score)\n",
    "  "
   ]
  },
  {
   "cell_type": "code",
   "execution_count": 20,
   "id": "9b731bba-a45d-4ec7-b67a-86cddb59f1be",
   "metadata": {},
   "outputs": [],
   "source": [
    "def objective(trial:optuna.Trial):\n",
    "    optimisers = {\"Adam\":torch.optim.Adam,\"SGD\":torch.optim.SGD,\"AdamW\":torch.optim.AdamW}\n",
    "    lr = trial.suggest_float(\"lr\",1e-5,1e-3,log=True)\n",
    "    weight_decay = trial.suggest_float(\"weight_decay\", 1e-8, 1e-1, log=True)\n",
    "    batch_size = trial.suggest_categorical(\"batch_size\",[4,8,16,32,64,128])\n",
    "    optimiser_name = trial.suggest_categorical(\"optimiser_name\", [\"Adam\", \"SGD\",\"AdamW\"])\n",
    "    momentum = None  # Default value\n",
    "    if optimiser_name == \"SGD\":\n",
    "        momentum = trial.suggest_float(\"momentum\",0.0,1.0)\n",
    "    optimiser_class = optimisers[optimiser_name]\n",
    "    \n",
    "    scores = []\n",
    "    \n",
    "    for train_index,val_index in skf.split(train_df, train_df[\"pCR\"]):\n",
    "        fold_train_df = train_df.iloc[train_index]\n",
    "        fold_val_df = train_df.iloc[val_index]\n",
    "        fold_train_dataset = ModelDataset(fold_train_df,class_samples={0:3,1:8},loading_bar=False)\n",
    "        fold_train_loader = DataLoader(fold_train_dataset,batch_size=batch_size,shuffle=True)\n",
    "        model = Model()\n",
    "        if optimiser_name ==\"SGD\":\n",
    "            optimiser = optimiser_class(model.parameters(),lr=lr,weight_decay=weight_decay,momentum=momentum)\n",
    "        else:\n",
    "            optimiser = optimiser_class(model.parameters(),lr=lr,weight_decay=weight_decay)\n",
    "        fold_val_dataset = ModelDataset(fold_val_df,class_samples={0:1,1:1},loading_bar=False)\n",
    "        fold_val_loader = DataLoader(fold_val_dataset,batch_size=batch_size)\n",
    "        model,score = trainModel(model,fold_train_loader,optimiser,device=device,num_epochs=20,val_loader=fold_val_loader,patience=5)\n",
    "        scores.append(score)\n",
    "        print(f\"ROC_AUC = {score}\")\n",
    "        \n",
    "        trial.report(float(score),step=len(scores))\n",
    "        if trial.should_prune():\n",
    "            raise optuna.TrialPruned()\n",
    " \n",
    "        \n",
    "    avg_score = sum(scores)/len(scores)\n",
    "    print(avg_score)\n",
    "    return avg_score"
   ]
  },
  {
   "cell_type": "code",
   "execution_count": 29,
   "id": "b4c32f19-94ab-49d0-bb8c-ca98250ffdf4",
   "metadata": {},
   "outputs": [
    {
     "name": "stderr",
     "output_type": "stream",
     "text": [
      "C:\\Users\\USER\\AppData\\Local\\Temp\\ipykernel_20080\\2317316032.py:6: ExperimentalWarning: RetryFailedTrialCallback is experimental (supported from v2.8.0). The interface can change in the future.\n",
      "  failed_trial_callback=RetryFailedTrialCallback(max_retry=3)\n"
     ]
    },
    {
     "name": "stdout",
     "output_type": "stream",
     "text": [
      "Using an existing study with name 'SRP_Model_Study' instead of creating a new one.\n"
     ]
    }
   ],
   "source": [
    "with open(\"Code/url.txt\",\"r\") as f:\n",
    "    url = f.read()\n",
    "\n",
    "storage = RDBStorage(\n",
    "    url=url,\n",
    "    failed_trial_callback=RetryFailedTrialCallback(max_retry=3)\n",
    ")\n",
    "\n",
    "pruner = optuna.pruners.MedianPruner(n_startup_trials=5,n_warmup_steps=2,)\n",
    "\n",
    "optuna_logger = optuna.logging.get_logger(\"optuna\")\n",
    "\n",
    "# Remove all handlers\n",
    "for handler in optuna_logger.handlers[:]:  # make a copy of the list\n",
    "    optuna_logger.removeHandler(handler)\n",
    "\n",
    "optuna.logging.get_logger(\"optuna\").addHandler(logging.StreamHandler(sys.stdout))\n",
    "\n",
    "study = optuna.create_study(\n",
    "    storage=storage,\n",
    "    pruner=pruner,\n",
    "    study_name=\"SRP_Model_Study\",\n",
    "    load_if_exists=True,\n",
    "    direction=\"maximize\")"
   ]
  },
  {
   "cell_type": "code",
   "execution_count": 22,
   "id": "81054637",
   "metadata": {},
   "outputs": [
    {
     "data": {
      "application/vnd.jupyter.widget-view+json": {
       "model_id": "97c5a92fd0c544408de8375540039762",
       "version_major": 2,
       "version_minor": 0
      },
      "text/plain": [
       "  0%|          | 0/2 [00:00<?, ?it/s]"
      ]
     },
     "metadata": {},
     "output_type": "display_data"
    },
    {
     "name": "stdout",
     "output_type": "stream",
     "text": [
      "Dataset initialised with 409 entries.\n",
      "Dataset initialised with 31 entries.\n",
      "Epoch 0 Done. Avg Loss: 1.3882\n",
      "Epoch 1 Done. Avg Loss: 0.4932\n",
      "Epoch 2 Done. Avg Loss: 0.2955\n",
      "Epoch 3 Done. Avg Loss: 0.2298\n",
      "Epoch 4 Done. Avg Loss: 0.1351\n",
      "Epoch 5 Done. Avg Loss: 0.0679\n",
      "Early stopping triggered at epoch 5 (best AUC: 0.5435).\n",
      "ROC_AUC = 0.5434782608695652\n",
      "Dataset initialised with 409 entries.\n",
      "Dataset initialised with 31 entries.\n",
      "Epoch 0 Done. Avg Loss: 1.2254\n",
      "Epoch 1 Done. Avg Loss: 0.4990\n",
      "Epoch 2 Done. Avg Loss: 0.3761\n",
      "Epoch 3 Done. Avg Loss: 0.2140\n",
      "Epoch 4 Done. Avg Loss: 0.1352\n",
      "Epoch 5 Done. Avg Loss: 0.1125\n",
      "Epoch 6 Done. Avg Loss: 0.0390\n",
      "Epoch 7 Done. Avg Loss: 0.0343\n",
      "Epoch 8 Done. Avg Loss: 0.0223\n",
      "Epoch 9 Done. Avg Loss: 0.0558\n",
      "Epoch 10 Done. Avg Loss: 0.0982\n",
      "Epoch 11 Done. Avg Loss: 0.0711\n",
      "Epoch 12 Done. Avg Loss: 0.2833\n",
      "Epoch 13 Done. Avg Loss: 0.0442\n",
      "Epoch 14 Done. Avg Loss: 0.0109\n",
      "Epoch 15 Done. Avg Loss: 0.0066\n",
      "Epoch 16 Done. Avg Loss: 0.0058\n",
      "Epoch 17 Done. Avg Loss: 0.0134\n",
      "Epoch 18 Done. Avg Loss: 0.0059\n",
      "Early stopping triggered at epoch 18 (best AUC: 0.4130).\n",
      "ROC_AUC = 0.41304347826086957\n",
      "Dataset initialised with 404 entries.\n",
      "Dataset initialised with 31 entries.\n",
      "Epoch 0 Done. Avg Loss: 1.3666\n",
      "Epoch 1 Done. Avg Loss: 0.6742\n",
      "Epoch 2 Done. Avg Loss: 0.5983\n",
      "Epoch 3 Done. Avg Loss: 0.4850\n",
      "Epoch 4 Done. Avg Loss: 0.3867\n",
      "Epoch 5 Done. Avg Loss: 0.2776\n",
      "Epoch 6 Done. Avg Loss: 0.1926\n",
      "Epoch 7 Done. Avg Loss: 0.1346\n",
      "Epoch 8 Done. Avg Loss: 0.0800\n",
      "Epoch 9 Done. Avg Loss: 0.0513\n",
      "Epoch 10 Done. Avg Loss: 0.0370\n",
      "Epoch 11 Done. Avg Loss: 0.0235\n",
      "Epoch 12 Done. Avg Loss: 0.0178\n",
      "Epoch 13 Done. Avg Loss: 0.0116\n",
      "Epoch 14 Done. Avg Loss: 0.0102\n",
      "Early stopping triggered at epoch 14 (best AUC: 0.5000).\n",
      "ROC_AUC = 0.5\n",
      "Dataset initialised with 404 entries.\n",
      "Dataset initialised with 31 entries.\n",
      "Epoch 0 Done. Avg Loss: 1.4121\n",
      "Epoch 1 Done. Avg Loss: 0.6264\n",
      "Epoch 2 Done. Avg Loss: 0.4002\n",
      "Epoch 3 Done. Avg Loss: 0.2670\n",
      "Epoch 4 Done. Avg Loss: 0.1801\n",
      "Epoch 5 Done. Avg Loss: 0.1601\n",
      "Epoch 6 Done. Avg Loss: 0.0822\n",
      "Epoch 7 Done. Avg Loss: 0.0724\n",
      "Epoch 8 Done. Avg Loss: 0.0423\n",
      "Epoch 9 Done. Avg Loss: 0.1256\n",
      "Epoch 10 Done. Avg Loss: 0.0630\n",
      "Early stopping triggered at epoch 10 (best AUC: 0.5303).\n",
      "ROC_AUC = 0.5303030303030303\n",
      "0.49670619235836627\n",
      "Trial 0 finished with value: 0.49670619235836627 and parameters: {'lr': 0.00021451609528572402, 'weight_decay': 7.524101411325704e-06, 'batch_size': 4, 'optimiser_name': 'AdamW'}. Best is trial 0 with value: 0.49670619235836627.\n",
      "Trial 0 finished with value: 0.49670619235836627 and parameters: {'lr': 0.00021451609528572402, 'weight_decay': 7.524101411325704e-06, 'batch_size': 4, 'optimiser_name': 'AdamW'}. Best is trial 0 with value: 0.49670619235836627.\n",
      "Trial 0 finished with value: 0.49670619235836627 and parameters: {'lr': 0.00021451609528572402, 'weight_decay': 7.524101411325704e-06, 'batch_size': 4, 'optimiser_name': 'AdamW'}. Best is trial 0 with value: 0.49670619235836627.\n",
      "Trial 0 finished with value: 0.49670619235836627 and parameters: {'lr': 0.00021451609528572402, 'weight_decay': 7.524101411325704e-06, 'batch_size': 4, 'optimiser_name': 'AdamW'}. Best is trial 0 with value: 0.49670619235836627.\n",
      "Trial 0 finished with value: 0.49670619235836627 and parameters: {'lr': 0.00021451609528572402, 'weight_decay': 7.524101411325704e-06, 'batch_size': 4, 'optimiser_name': 'AdamW'}. Best is trial 0 with value: 0.49670619235836627.\n",
      "[I 2025-08-17 20:53:35,825] Trial 0 finished with value: 0.49670619235836627 and parameters: {'lr': 0.00021451609528572402, 'weight_decay': 7.524101411325704e-06, 'batch_size': 4, 'optimiser_name': 'AdamW'}. Best is trial 0 with value: 0.49670619235836627.\n",
      "Dataset initialised with 409 entries.\n",
      "Dataset initialised with 31 entries.\n",
      "Epoch 0 Done. Avg Loss: 1.8878\n",
      "Epoch 1 Done. Avg Loss: 0.6828\n",
      "Epoch 2 Done. Avg Loss: 0.6459\n",
      "Epoch 3 Done. Avg Loss: 0.5694\n",
      "Epoch 4 Done. Avg Loss: 0.4449\n",
      "Epoch 5 Done. Avg Loss: 0.3516\n",
      "Epoch 6 Done. Avg Loss: 0.2219\n",
      "Epoch 7 Done. Avg Loss: 0.1638\n",
      "Epoch 8 Done. Avg Loss: 0.1167\n",
      "Epoch 9 Done. Avg Loss: 0.0863\n",
      "Epoch 10 Done. Avg Loss: 0.0640\n",
      "Epoch 11 Done. Avg Loss: 0.0477\n",
      "Epoch 12 Done. Avg Loss: 0.0303\n",
      "Epoch 13 Done. Avg Loss: 0.0234\n",
      "Epoch 14 Done. Avg Loss: 0.0227\n",
      "Epoch 15 Done. Avg Loss: 0.0242\n",
      "Epoch 16 Done. Avg Loss: 0.0185\n",
      "Epoch 17 Done. Avg Loss: 0.0199\n",
      "Epoch 18 Done. Avg Loss: 0.0162\n",
      "Epoch 19 Done. Avg Loss: 0.0138\n",
      "ROC_AUC = 0.6032608695652174\n",
      "Dataset initialised with 409 entries.\n",
      "Dataset initialised with 31 entries.\n",
      "Epoch 0 Done. Avg Loss: 1.2310\n",
      "Epoch 1 Done. Avg Loss: 0.5887\n",
      "Epoch 2 Done. Avg Loss: 0.3799\n",
      "Epoch 3 Done. Avg Loss: 0.2856\n",
      "Epoch 4 Done. Avg Loss: 0.1789\n",
      "Epoch 5 Done. Avg Loss: 0.1018\n",
      "Epoch 6 Done. Avg Loss: 0.0668\n",
      "Epoch 7 Done. Avg Loss: 0.0582\n",
      "Epoch 8 Done. Avg Loss: 0.0713\n",
      "Epoch 9 Done. Avg Loss: 0.0739\n",
      "Epoch 10 Done. Avg Loss: 0.0448\n",
      "Epoch 11 Done. Avg Loss: 0.0319\n",
      "Epoch 12 Done. Avg Loss: 0.0215\n",
      "Epoch 13 Done. Avg Loss: 0.0179\n",
      "Epoch 14 Done. Avg Loss: 0.0128\n",
      "Epoch 15 Done. Avg Loss: 0.0129\n",
      "Early stopping triggered at epoch 15 (best AUC: 0.4946).\n",
      "ROC_AUC = 0.4945652173913043\n",
      "Dataset initialised with 404 entries.\n",
      "Dataset initialised with 31 entries.\n",
      "Epoch 0 Done. Avg Loss: 1.7875\n",
      "Epoch 1 Done. Avg Loss: 0.6411\n",
      "Epoch 2 Done. Avg Loss: 0.5580\n",
      "Epoch 3 Done. Avg Loss: 0.4664\n",
      "Epoch 4 Done. Avg Loss: 0.3458\n",
      "Epoch 5 Done. Avg Loss: 0.2563\n",
      "Epoch 6 Done. Avg Loss: 0.2042\n",
      "Epoch 7 Done. Avg Loss: 0.1280\n",
      "Epoch 8 Done. Avg Loss: 0.0750\n",
      "Epoch 9 Done. Avg Loss: 0.0620\n",
      "Epoch 10 Done. Avg Loss: 0.0635\n",
      "Epoch 11 Done. Avg Loss: 0.0552\n",
      "Epoch 12 Done. Avg Loss: 0.0359\n",
      "Epoch 13 Done. Avg Loss: 0.0238\n",
      "Early stopping triggered at epoch 13 (best AUC: 0.5404).\n",
      "ROC_AUC = 0.5404040404040404\n",
      "Dataset initialised with 404 entries.\n",
      "Dataset initialised with 31 entries.\n",
      "Epoch 0 Done. Avg Loss: 1.5842\n",
      "Epoch 1 Done. Avg Loss: 0.6563\n",
      "Epoch 2 Done. Avg Loss: 0.4948\n",
      "Epoch 3 Done. Avg Loss: 0.3971\n",
      "Epoch 4 Done. Avg Loss: 0.2488\n",
      "Epoch 5 Done. Avg Loss: 0.2044\n",
      "Early stopping triggered at epoch 5 (best AUC: 0.5253).\n",
      "ROC_AUC = 0.5252525252525252\n",
      "0.5408706631532718\n",
      "Trial 1 finished with value: 0.5408706631532718 and parameters: {'lr': 0.000319464014061366, 'weight_decay': 0.016364031648894037, 'batch_size': 16, 'optimiser_name': 'Adam'}. Best is trial 1 with value: 0.5408706631532718.\n",
      "Trial 1 finished with value: 0.5408706631532718 and parameters: {'lr': 0.000319464014061366, 'weight_decay': 0.016364031648894037, 'batch_size': 16, 'optimiser_name': 'Adam'}. Best is trial 1 with value: 0.5408706631532718.\n",
      "Trial 1 finished with value: 0.5408706631532718 and parameters: {'lr': 0.000319464014061366, 'weight_decay': 0.016364031648894037, 'batch_size': 16, 'optimiser_name': 'Adam'}. Best is trial 1 with value: 0.5408706631532718.\n",
      "Trial 1 finished with value: 0.5408706631532718 and parameters: {'lr': 0.000319464014061366, 'weight_decay': 0.016364031648894037, 'batch_size': 16, 'optimiser_name': 'Adam'}. Best is trial 1 with value: 0.5408706631532718.\n",
      "Trial 1 finished with value: 0.5408706631532718 and parameters: {'lr': 0.000319464014061366, 'weight_decay': 0.016364031648894037, 'batch_size': 16, 'optimiser_name': 'Adam'}. Best is trial 1 with value: 0.5408706631532718.\n",
      "[I 2025-08-17 22:38:24,129] Trial 1 finished with value: 0.5408706631532718 and parameters: {'lr': 0.000319464014061366, 'weight_decay': 0.016364031648894037, 'batch_size': 16, 'optimiser_name': 'Adam'}. Best is trial 1 with value: 0.5408706631532718.\n"
     ]
    },
    {
     "ename": "PermissionError",
     "evalue": "[WinError 32] The process cannot access the file because it is being used by another process: 'study_backup.db'",
     "output_type": "error",
     "traceback": [
      "\u001b[31m---------------------------------------------------------------------------\u001b[39m",
      "\u001b[31mPermissionError\u001b[39m                           Traceback (most recent call last)",
      "\u001b[36mCell\u001b[39m\u001b[36m \u001b[39m\u001b[32mIn[22]\u001b[39m\u001b[32m, line 4\u001b[39m\n\u001b[32m      1\u001b[39m study.optimize(objective,n_trials=\u001b[32m2\u001b[39m,show_progress_bar=\u001b[38;5;28;01mTrue\u001b[39;00m)\n\u001b[32m      3\u001b[39m \u001b[38;5;28;01mif\u001b[39;00m os.path.exists(backup_path):\n\u001b[32m----> \u001b[39m\u001b[32m4\u001b[39m     \u001b[43mos\u001b[49m\u001b[43m.\u001b[49m\u001b[43mremove\u001b[49m\u001b[43m(\u001b[49m\u001b[43mbackup_path\u001b[49m\u001b[43m)\u001b[49m\n\u001b[32m      6\u001b[39m optuna.copy_study(\n\u001b[32m      7\u001b[39m     from_study_name=\u001b[33m\"\u001b[39m\u001b[33mSRP_Model_Study\u001b[39m\u001b[33m\"\u001b[39m,\n\u001b[32m      8\u001b[39m     from_storage=storage,\n\u001b[32m      9\u001b[39m     to_storage=\u001b[33mf\u001b[39m\u001b[33m\"\u001b[39m\u001b[33msqlite:///\u001b[39m\u001b[38;5;132;01m{\u001b[39;00mbackup_path\u001b[38;5;132;01m}\u001b[39;00m\u001b[33m\"\u001b[39m\n\u001b[32m     10\u001b[39m )\n",
      "\u001b[31mPermissionError\u001b[39m: [WinError 32] The process cannot access the file because it is being used by another process: 'study_backup.db'"
     ]
    }
   ],
   "source": [
    "study.optimize(objective,n_trials=2,show_progress_bar=True)\n",
    "\n",
    "if os.path.exists(backup_path):\n",
    "    os.remove(backup_path)\n",
    "\n",
    "optuna.copy_study(\n",
    "    from_study_name=\"SRP_Model_Study\",\n",
    "    from_storage=storage,\n",
    "    to_storage=f\"sqlite:///{backup_path}\"\n",
    ")"
   ]
  },
  {
   "cell_type": "code",
   "execution_count": 26,
   "id": "4dfa88aa",
   "metadata": {},
   "outputs": [
    {
     "name": "stdout",
     "output_type": "stream",
     "text": [
      "A new study created in RDB with name: SRP_Model_Study\n",
      "A new study created in RDB with name: SRP_Model_Study\n",
      "A new study created in RDB with name: SRP_Model_Study\n",
      "A new study created in RDB with name: SRP_Model_Study\n",
      "A new study created in RDB with name: SRP_Model_Study\n"
     ]
    },
    {
     "name": "stderr",
     "output_type": "stream",
     "text": [
      "[I 2025-08-17 22:52:40,769] A new study created in RDB with name: SRP_Model_Study\n"
     ]
    }
   ],
   "source": [
    "if os.path.exists(backup_path):\n",
    "    os.remove(backup_path)\n",
    "\n",
    "optuna.copy_study(\n",
    "    from_study_name=\"SRP_Model_Study\",\n",
    "    from_storage=storage,\n",
    "    to_storage=f\"sqlite:///{backup_path}\"\n",
    ")"
   ]
  },
  {
   "cell_type": "markdown",
   "id": "84f617ad",
   "metadata": {},
   "source": [
    "### Free up studies"
   ]
  },
  {
   "cell_type": "code",
   "execution_count": 24,
   "id": "44f40d83",
   "metadata": {},
   "outputs": [
    {
     "data": {
      "text/plain": [
       "18564"
      ]
     },
     "execution_count": 24,
     "metadata": {},
     "output_type": "execute_result"
    }
   ],
   "source": [
    "for var in list(globals()):\n",
    "    if isinstance(globals()[var], optuna.study.Study):\n",
    "        del globals()[var]\n",
    "\n",
    "gc.collect()"
   ]
  },
  {
   "cell_type": "code",
   "execution_count": null,
   "id": "89dfacb8-5aac-4057-8319-16cf0bc7123f",
   "metadata": {},
   "outputs": [],
   "source": [
    "def retry_failed_trials(study: optuna.Study, objective_func):\n",
    "    failed_trials = [t for t in study.trials if t.state == optuna.trial.TrialState.FAIL]\n",
    "    print(f\"Found {len(failed_trials)} failed trials. Retrying...\")\n",
    "\n",
    "    for trial in failed_trials:\n",
    "        print(f\"Retrying trial #{trial.number} with params {trial.params}\")\n",
    "\n",
    "        def fixed_objective(trial_):\n",
    "            trial_.set_user_attr(\"original_trial_number\", trial.number)\n",
    "            for key, value in trial.params.items():\n",
    "                if isinstance(value, float):\n",
    "                    trial_.suggest_float(key, value, value)  # no log param here\n",
    "                elif isinstance(value, int):\n",
    "                    trial_.suggest_int(key, value, value)\n",
    "                else:\n",
    "                    trial_.suggest_categorical(key, [value])\n",
    "            return objective_func(trial_)\n",
    "\n",
    "        study.optimize(fixed_objective, n_trials=1)\n",
    "\n",
    "    print(\"Retried all failed trials.\")\n"
   ]
  },
  {
   "cell_type": "code",
   "execution_count": null,
   "id": "5a79b67a-c379-41db-96a6-517aef55efb3",
   "metadata": {},
   "outputs": [],
   "source": [
    "retry_failed_trials(study,objective)"
   ]
  },
  {
   "cell_type": "markdown",
   "id": "59c92733",
   "metadata": {},
   "source": [
    "## Delete study"
   ]
  },
  {
   "cell_type": "code",
   "execution_count": 19,
   "id": "3daa0e0f",
   "metadata": {},
   "outputs": [],
   "source": [
    "if input(\"Confirm delete? [y/n]\") == \"y\":\n",
    "    optuna.delete_study(study_name=\"SRP_Model_Study\",storage=storage)"
   ]
  }
 ],
 "metadata": {
  "kernelspec": {
   "display_name": "Python 3 (ipykernel)",
   "language": "python",
   "name": "python3"
  },
  "language_info": {
   "codemirror_mode": {
    "name": "ipython",
    "version": 3
   },
   "file_extension": ".py",
   "mimetype": "text/x-python",
   "name": "python",
   "nbconvert_exporter": "python",
   "pygments_lexer": "ipython3",
   "version": "3.13.5"
  }
 },
 "nbformat": 4,
 "nbformat_minor": 5
}
