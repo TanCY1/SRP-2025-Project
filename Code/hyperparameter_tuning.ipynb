{
 "cells": [
  {
   "cell_type": "code",
   "execution_count": 1,
   "id": "f871af03-5ad4-4807-bd7a-515ce75391fb",
   "metadata": {},
   "outputs": [
    {
     "name": "stdout",
     "output_type": "stream",
     "text": [
      "E:\\SRP\n"
     ]
    }
   ],
   "source": [
    "%cd E:\\SRP\n",
    "import os,sys\n",
    "notebook_dir = os.getcwd()\n",
    "path = os.path.abspath(os.path.join(notebook_dir, \"Code\"))\n",
    "sys.path.append(path)\n",
    "import optuna\n",
    "from sklearn.model_selection import StratifiedKFold\n",
    "from sklearn.metrics import roc_auc_score,roc_curve,classification_report\n",
    "from generateSplits import generateSplits\n",
    "import pandas as pd\n",
    "from trainModel import trainModel\n",
    "from Dataset import ModelDataset\n",
    "from model import Model\n",
    "from torch.utils.data import DataLoader\n",
    "import torch\n",
    "import matplotlib.pyplot as plt\n",
    "from optuna.storages import RDBStorage,RetryFailedTrialCallback\n",
    "import logging\n",
    "import gc"
   ]
  },
  {
   "cell_type": "code",
   "execution_count": 2,
   "id": "f0cc27f1-af7f-4564-9730-c1c94f2a04fe",
   "metadata": {},
   "outputs": [],
   "source": [
    "device = torch.device(\"cuda\") if torch.cuda.is_available else torch.device(\"cpu\")\n",
    "\n",
    "metadata = pd.read_csv(\"Datasets/BreastDCEDL_spy1/BreastDCEDL_spy1_metadata.csv\")\n",
    "train_df,val_df = generateSplits(metadata,0.2,seed=42)\n",
    "train_df = train_df[[\"pid\",\"pCR\",\"ER\",\"PR\",\"HER2\"]].set_index(\"pid\",drop=True)\n",
    "val_df = val_df[[\"pid\",\"pCR\",\"ER\",\"PR\",\"HER2\"]].set_index(\"pid\",drop=True)\n",
    "skf = StratifiedKFold(n_splits=4,shuffle=True,random_state=42)\n",
    "backup_path = \"study_backup.db\""
   ]
  },
  {
   "cell_type": "code",
   "execution_count": null,
   "id": "5010e72b-842e-49bb-9ebb-441e7381ec6a",
   "metadata": {},
   "outputs": [],
   "source": [
    "def evaluate(model:torch.nn.Module,val_loader:torch.utils.data.DataLoader):\n",
    "    model.eval()\n",
    "    model.to(device)\n",
    "    \n",
    "    y_score = []\n",
    "    y_true = []\n",
    "    y_pred = []\n",
    "    with torch.no_grad():\n",
    "        for images,mols,labels in val_loader:\n",
    "            images = images.to(device)\n",
    "            mols = mols.to(device)\n",
    "            logits = model(images,mols)\n",
    "            scores = torch.nn.functional.softmax(logits,dim=1)[:,1]\n",
    "            y_score.extend(scores.cpu().numpy())\n",
    "            y_true.extend(labels.cpu().numpy())\n",
    "    \n",
    "    return roc_auc_score(y_true,y_score)\n",
    "  "
   ]
  },
  {
   "cell_type": "code",
   "execution_count": 4,
   "id": "9b731bba-a45d-4ec7-b67a-86cddb59f1be",
   "metadata": {},
   "outputs": [],
   "source": [
    "def objective(trial:optuna.Trial):\n",
    "    optimisers = {\"Adam\":torch.optim.Adam,\"SGD\":torch.optim.SGD,\"AdamW\":torch.optim.AdamW}\n",
    "    lr = trial.suggest_float(\"lr\",1e-5,1e-3,log=True)\n",
    "    weight_decay = trial.suggest_float(\"weight_decay\", 1e-8, 1e-1, log=True)\n",
    "    batch_size = trial.suggest_categorical(\"batch_size\",[4,8,16,32,64,128])\n",
    "    optimiser_name = trial.suggest_categorical(\"optimiser_name\", [\"Adam\", \"SGD\",\"AdamW\"])\n",
    "    momentum = None  # Default value\n",
    "    if optimiser_name == \"SGD\":\n",
    "        momentum = trial.suggest_float(\"momentum\",0.0,1.0)\n",
    "    optimiser_class = optimisers[optimiser_name]\n",
    "    \n",
    "    scores = []\n",
    "    \n",
    "    for train_index,val_index in skf.split(train_df, train_df[\"pCR\"]):\n",
    "        fold_train_df = train_df.iloc[train_index]\n",
    "        fold_val_df = train_df.iloc[val_index]\n",
    "        fold_train_dataset = ModelDataset(fold_train_df,class_samples={0:3,1:8},loading_bar=False,caching=True)\n",
    "        fold_train_loader = DataLoader(fold_train_dataset,batch_size=batch_size,shuffle=True)\n",
    "        model = Model()\n",
    "        if optimiser_name ==\"SGD\":\n",
    "            optimiser = optimiser_class(model.parameters(),lr=lr,weight_decay=weight_decay,momentum=momentum)\n",
    "        else:\n",
    "            optimiser = optimiser_class(model.parameters(),lr=lr,weight_decay=weight_decay)\n",
    "        fold_val_dataset = ModelDataset(fold_val_df,class_samples={0:1,1:1},loading_bar=False,caching=True)\n",
    "        fold_val_loader = DataLoader(fold_val_dataset,batch_size=batch_size)\n",
    "        model,score = trainModel(model,fold_train_loader,optimiser,device=device,num_epochs=20,val_loader=fold_val_loader,patience=5)\n",
    "        scores.append(score)\n",
    "        print(f\"ROC_AUC = {score}\")\n",
    "        \n",
    "        trial.report(float(score),step=len(scores))\n",
    "        if trial.should_prune():\n",
    "            raise optuna.TrialPruned()\n",
    " \n",
    "        \n",
    "    avg_score = sum(scores)/len(scores)\n",
    "    print(avg_score)\n",
    "    return avg_score"
   ]
  },
  {
   "cell_type": "code",
   "execution_count": null,
   "id": "b4c32f19-94ab-49d0-bb8c-ca98250ffdf4",
   "metadata": {},
   "outputs": [
    {
     "name": "stderr",
     "output_type": "stream",
     "text": [
      "C:\\Users\\USER\\AppData\\Local\\Temp\\ipykernel_10752\\2317316032.py:6: ExperimentalWarning: RetryFailedTrialCallback is experimental (supported from v2.8.0). The interface can change in the future.\n",
      "  failed_trial_callback=RetryFailedTrialCallback(max_retry=3)\n"
     ]
    },
    {
     "name": "stdout",
     "output_type": "stream",
     "text": [
      "Using an existing study with name 'SRP_Model_Study' instead of creating a new one.\n"
     ]
    }
   ],
   "source": [
    "with open(\"Code/url.txt\",\"r\") as f:\n",
    "    url = f.read()\n",
    "\n",
    "storage = RDBStorage(\n",
    "    url=url,\n",
    "    failed_trial_callback=RetryFailedTrialCallback(max_retry=3)\n",
    ")\n",
    "\n",
    "sampler = optuna.samplers.TPESampler(multivariate=True,gamma=lambda n:max(1, n // 2))\n",
    "pruner = optuna.pruners.MedianPruner(n_startup_trials=5,n_warmup_steps=2,)\n",
    "\n",
    "optuna_logger = optuna.logging.get_logger(\"optuna\")\n",
    "\n",
    "# Remove all handlers\n",
    "for handler in optuna_logger.handlers[:]:  # make a copy of the list\n",
    "    optuna_logger.removeHandler(handler)\n",
    "\n",
    "optuna.logging.get_logger(\"optuna\").addHandler(logging.StreamHandler(sys.stdout))\n",
    "\n",
    "study = optuna.create_study(\n",
    "    storage=storage,\n",
    "    sampler = sampler,\n",
    "    pruner=pruner,\n",
    "    study_name=\"SRP_Model_Study\",\n",
    "    load_if_exists=True,\n",
    "    direction=\"maximize\")"
   ]
  },
  {
   "cell_type": "markdown",
   "id": "325ba7cd",
   "metadata": {},
   "source": [
    "## Optimise Hyperparameters"
   ]
  },
  {
   "cell_type": "code",
   "execution_count": 12,
   "id": "81054637",
   "metadata": {},
   "outputs": [
    {
     "data": {
      "application/vnd.jupyter.widget-view+json": {
       "model_id": "62c5bab490564b5b81efac18e1a8a60c",
       "version_major": 2,
       "version_minor": 0
      },
      "text/plain": [
       "  0%|          | 0/1 [00:00<?, ?it/s]"
      ]
     },
     "metadata": {},
     "output_type": "display_data"
    },
    {
     "name": "stdout",
     "output_type": "stream",
     "text": [
      "Dataset initialised with 409 entries.\n",
      "Dataset initialised with 31 entries.\n",
      "Epoch 0 Done. Avg Loss: 7.7963\n",
      "Epoch 1 Done. Avg Loss: 1.2581\n",
      "Epoch 2 Done. Avg Loss: 0.6034\n",
      "Epoch 3 Done. Avg Loss: 0.3771\n",
      "Epoch 4 Done. Avg Loss: 0.2972\n",
      "Epoch 5 Done. Avg Loss: 0.2124\n",
      "Epoch 6 Done. Avg Loss: 0.1779\n",
      "Epoch 7 Done. Avg Loss: 0.1339\n",
      "Epoch 8 Done. Avg Loss: 0.0911\n",
      "Epoch 9 Done. Avg Loss: 0.0781\n",
      "Epoch 10 Done. Avg Loss: 0.0440\n",
      "Epoch 11 Done. Avg Loss: 0.0375\n",
      "Epoch 12 Done. Avg Loss: 0.0313\n",
      "Early stopping triggered at epoch 12 (best AUC: 0.5543).\n",
      "ROC_AUC = 0.5543478260869565\n",
      "Dataset initialised with 409 entries.\n",
      "Dataset initialised with 31 entries.\n",
      "Epoch 0 Done. Avg Loss: 6.6724\n",
      "Epoch 1 Done. Avg Loss: 1.3970\n",
      "Epoch 2 Done. Avg Loss: 0.6514\n",
      "Epoch 3 Done. Avg Loss: 0.4849\n",
      "Epoch 4 Done. Avg Loss: 0.3666\n",
      "Epoch 5 Done. Avg Loss: 0.3136\n",
      "Early stopping triggered at epoch 5 (best AUC: 0.5000).\n",
      "ROC_AUC = 0.5\n",
      "Dataset initialised with 404 entries.\n",
      "Dataset initialised with 31 entries.\n",
      "Epoch 0 Done. Avg Loss: 6.9501\n",
      "Epoch 1 Done. Avg Loss: 1.4577\n",
      "Epoch 2 Done. Avg Loss: 0.5904\n",
      "Epoch 3 Done. Avg Loss: 0.4428\n",
      "Epoch 4 Done. Avg Loss: 0.3132\n",
      "Epoch 5 Done. Avg Loss: 0.2500\n",
      "Epoch 6 Done. Avg Loss: 0.1603\n",
      "Epoch 7 Done. Avg Loss: 0.1188\n",
      "Epoch 8 Done. Avg Loss: 0.0958\n",
      "Epoch 9 Done. Avg Loss: 0.0720\n",
      "Epoch 10 Done. Avg Loss: 0.0469\n",
      "Epoch 11 Done. Avg Loss: 0.0375\n",
      "Early stopping triggered at epoch 11 (best AUC: 0.5051).\n",
      "ROC_AUC = 0.5050505050505051\n",
      "Dataset initialised with 404 entries.\n",
      "Dataset initialised with 31 entries.\n",
      "Epoch 0 Done. Avg Loss: 12.5938\n",
      "Epoch 1 Done. Avg Loss: 0.8488\n",
      "Epoch 2 Done. Avg Loss: 0.6937\n",
      "Epoch 3 Done. Avg Loss: 0.6901\n",
      "Epoch 4 Done. Avg Loss: 0.6768\n",
      "Epoch 5 Done. Avg Loss: 0.6510\n",
      "Epoch 6 Done. Avg Loss: 0.5997\n",
      "Epoch 7 Done. Avg Loss: 0.5473\n",
      "Epoch 8 Done. Avg Loss: 0.4842\n",
      "Epoch 9 Done. Avg Loss: 0.4224\n",
      "Epoch 10 Done. Avg Loss: 0.3680\n",
      "Early stopping triggered at epoch 10 (best AUC: 0.6162).\n",
      "ROC_AUC = 0.6161616161616161\n",
      "0.5438899868247694\n",
      "Trial 20 finished with value: 0.5438899868247694 and parameters: {'lr': 0.0009053814297060739, 'weight_decay': 1.3207017348462594e-08, 'batch_size': 64, 'optimiser_name': 'AdamW'}. Best is trial 18 with value: 0.5694444444444444.\n",
      "[I 2025-08-21 23:30:36,471] Trial 20 finished with value: 0.5438899868247694 and parameters: {'lr': 0.0009053814297060739, 'weight_decay': 1.3207017348462594e-08, 'batch_size': 64, 'optimiser_name': 'AdamW'}. Best is trial 18 with value: 0.5694444444444444.\n",
      "A new study created in RDB with name: SRP_Model_Study\n"
     ]
    },
    {
     "name": "stderr",
     "output_type": "stream",
     "text": [
      "[I 2025-08-21 23:30:41,370] A new study created in RDB with name: SRP_Model_Study\n"
     ]
    },
    {
     "ename": "StorageInternalError",
     "evalue": "An exception is raised during the commit. This typically happens due to invalid data in the commit, e.g. exceeding max length. ",
     "output_type": "error",
     "traceback": [
      "\u001b[31m---------------------------------------------------------------------------\u001b[39m",
      "\u001b[31mOperationalError\u001b[39m                          Traceback (most recent call last)",
      "\u001b[36mFile \u001b[39m\u001b[32mE:\\SRP\\Code\\env\\Lib\\site-packages\\sqlalchemy\\engine\\base.py:1961\u001b[39m, in \u001b[36mConnection._exec_single_context\u001b[39m\u001b[34m(self, dialect, context, statement, parameters)\u001b[39m\n\u001b[32m   1960\u001b[39m     \u001b[38;5;28;01mif\u001b[39;00m \u001b[38;5;129;01mnot\u001b[39;00m evt_handled:\n\u001b[32m-> \u001b[39m\u001b[32m1961\u001b[39m         \u001b[38;5;28;43mself\u001b[39;49m\u001b[43m.\u001b[49m\u001b[43mdialect\u001b[49m\u001b[43m.\u001b[49m\u001b[43mdo_execute\u001b[49m\u001b[43m(\u001b[49m\n\u001b[32m   1962\u001b[39m \u001b[43m            \u001b[49m\u001b[43mcursor\u001b[49m\u001b[43m,\u001b[49m\u001b[43m \u001b[49m\u001b[43mstr_statement\u001b[49m\u001b[43m,\u001b[49m\u001b[43m \u001b[49m\u001b[43meffective_parameters\u001b[49m\u001b[43m,\u001b[49m\u001b[43m \u001b[49m\u001b[43mcontext\u001b[49m\n\u001b[32m   1963\u001b[39m \u001b[43m        \u001b[49m\u001b[43m)\u001b[49m\n\u001b[32m   1965\u001b[39m \u001b[38;5;28;01mif\u001b[39;00m \u001b[38;5;28mself\u001b[39m._has_events \u001b[38;5;129;01mor\u001b[39;00m \u001b[38;5;28mself\u001b[39m.engine._has_events:\n",
      "\u001b[36mFile \u001b[39m\u001b[32mE:\\SRP\\Code\\env\\Lib\\site-packages\\sqlalchemy\\engine\\default.py:944\u001b[39m, in \u001b[36mDefaultDialect.do_execute\u001b[39m\u001b[34m(self, cursor, statement, parameters, context)\u001b[39m\n\u001b[32m    943\u001b[39m \u001b[38;5;28;01mdef\u001b[39;00m\u001b[38;5;250m \u001b[39m\u001b[34mdo_execute\u001b[39m(\u001b[38;5;28mself\u001b[39m, cursor, statement, parameters, context=\u001b[38;5;28;01mNone\u001b[39;00m):\n\u001b[32m--> \u001b[39m\u001b[32m944\u001b[39m     \u001b[43mcursor\u001b[49m\u001b[43m.\u001b[49m\u001b[43mexecute\u001b[49m\u001b[43m(\u001b[49m\u001b[43mstatement\u001b[49m\u001b[43m,\u001b[49m\u001b[43m \u001b[49m\u001b[43mparameters\u001b[49m\u001b[43m)\u001b[49m\n",
      "\u001b[31mOperationalError\u001b[39m: server closed the connection unexpectedly\n\tThis probably means the server terminated abnormally\n\tbefore or while processing the request.\nserver closed the connection unexpectedly\n\tThis probably means the server terminated abnormally\n\tbefore or while processing the request.\n",
      "\nThe above exception was the direct cause of the following exception:\n",
      "\u001b[31mOperationalError\u001b[39m                          Traceback (most recent call last)",
      "\u001b[36mFile \u001b[39m\u001b[32mE:\\SRP\\Code\\env\\Lib\\site-packages\\optuna\\storages\\_rdb\\storage.py:72\u001b[39m, in \u001b[36m_create_scoped_session\u001b[39m\u001b[34m(scoped_session, ignore_integrity_error)\u001b[39m\n\u001b[32m     71\u001b[39m \u001b[38;5;28;01mtry\u001b[39;00m:\n\u001b[32m---> \u001b[39m\u001b[32m72\u001b[39m     \u001b[38;5;28;01myield\u001b[39;00m session\n\u001b[32m     73\u001b[39m     session.commit()\n",
      "\u001b[36mFile \u001b[39m\u001b[32mE:\\SRP\\Code\\env\\Lib\\site-packages\\optuna\\storages\\_rdb\\storage.py:360\u001b[39m, in \u001b[36mRDBStorage.get_study_system_attrs\u001b[39m\u001b[34m(self, study_id)\u001b[39m\n\u001b[32m    358\u001b[39m \u001b[38;5;28;01mwith\u001b[39;00m _create_scoped_session(\u001b[38;5;28mself\u001b[39m.scoped_session) \u001b[38;5;28;01mas\u001b[39;00m session:\n\u001b[32m    359\u001b[39m     \u001b[38;5;66;03m# Ensure that that study exists.\u001b[39;00m\n\u001b[32m--> \u001b[39m\u001b[32m360\u001b[39m     \u001b[43mmodels\u001b[49m\u001b[43m.\u001b[49m\u001b[43mStudyModel\u001b[49m\u001b[43m.\u001b[49m\u001b[43mfind_or_raise_by_id\u001b[49m\u001b[43m(\u001b[49m\u001b[43mstudy_id\u001b[49m\u001b[43m,\u001b[49m\u001b[43m \u001b[49m\u001b[43msession\u001b[49m\u001b[43m)\u001b[49m\n\u001b[32m    361\u001b[39m     attributes = models.StudySystemAttributeModel.where_study_id(study_id, session)\n",
      "\u001b[36mFile \u001b[39m\u001b[32mE:\\SRP\\Code\\env\\Lib\\site-packages\\optuna\\storages\\_rdb\\models.py:73\u001b[39m, in \u001b[36mStudyModel.find_or_raise_by_id\u001b[39m\u001b[34m(cls, study_id, session, for_update)\u001b[39m\n\u001b[32m     71\u001b[39m     query = query.with_for_update()\n\u001b[32m---> \u001b[39m\u001b[32m73\u001b[39m study = \u001b[43mquery\u001b[49m\u001b[43m.\u001b[49m\u001b[43mone_or_none\u001b[49m\u001b[43m(\u001b[49m\u001b[43m)\u001b[49m\n\u001b[32m     74\u001b[39m \u001b[38;5;28;01mif\u001b[39;00m study \u001b[38;5;129;01mis\u001b[39;00m \u001b[38;5;28;01mNone\u001b[39;00m:\n",
      "\u001b[36mFile \u001b[39m\u001b[32mE:\\SRP\\Code\\env\\Lib\\site-packages\\sqlalchemy\\orm\\query.py:2785\u001b[39m, in \u001b[36mQuery.one_or_none\u001b[39m\u001b[34m(self)\u001b[39m\n\u001b[32m   2762\u001b[39m \u001b[38;5;250m\u001b[39m\u001b[33;03m\"\"\"Return at most one result or raise an exception.\u001b[39;00m\n\u001b[32m   2763\u001b[39m \n\u001b[32m   2764\u001b[39m \u001b[33;03mReturns ``None`` if the query selects\u001b[39;00m\n\u001b[32m   (...)\u001b[39m\u001b[32m   2783\u001b[39m \n\u001b[32m   2784\u001b[39m \u001b[33;03m\"\"\"\u001b[39;00m\n\u001b[32m-> \u001b[39m\u001b[32m2785\u001b[39m \u001b[38;5;28;01mreturn\u001b[39;00m \u001b[38;5;28;43mself\u001b[39;49m\u001b[43m.\u001b[49m\u001b[43m_iter\u001b[49m\u001b[43m(\u001b[49m\u001b[43m)\u001b[49m.one_or_none()\n",
      "\u001b[36mFile \u001b[39m\u001b[32mE:\\SRP\\Code\\env\\Lib\\site-packages\\sqlalchemy\\orm\\query.py:2857\u001b[39m, in \u001b[36mQuery._iter\u001b[39m\u001b[34m(self)\u001b[39m\n\u001b[32m   2856\u001b[39m statement = \u001b[38;5;28mself\u001b[39m._statement_20()\n\u001b[32m-> \u001b[39m\u001b[32m2857\u001b[39m result: Union[ScalarResult[_T], Result[_T]] = \u001b[38;5;28;43mself\u001b[39;49m\u001b[43m.\u001b[49m\u001b[43msession\u001b[49m\u001b[43m.\u001b[49m\u001b[43mexecute\u001b[49m\u001b[43m(\u001b[49m\n\u001b[32m   2858\u001b[39m \u001b[43m    \u001b[49m\u001b[43mstatement\u001b[49m\u001b[43m,\u001b[49m\n\u001b[32m   2859\u001b[39m \u001b[43m    \u001b[49m\u001b[43mparams\u001b[49m\u001b[43m,\u001b[49m\n\u001b[32m   2860\u001b[39m \u001b[43m    \u001b[49m\u001b[43mexecution_options\u001b[49m\u001b[43m=\u001b[49m\u001b[43m{\u001b[49m\u001b[33;43m\"\u001b[39;49m\u001b[33;43m_sa_orm_load_options\u001b[39;49m\u001b[33;43m\"\u001b[39;49m\u001b[43m:\u001b[49m\u001b[43m \u001b[49m\u001b[38;5;28;43mself\u001b[39;49m\u001b[43m.\u001b[49m\u001b[43mload_options\u001b[49m\u001b[43m}\u001b[49m\u001b[43m,\u001b[49m\n\u001b[32m   2861\u001b[39m \u001b[43m\u001b[49m\u001b[43m)\u001b[49m\n\u001b[32m   2863\u001b[39m \u001b[38;5;66;03m# legacy: automatically set scalars, unique\u001b[39;00m\n",
      "\u001b[36mFile \u001b[39m\u001b[32mE:\\SRP\\Code\\env\\Lib\\site-packages\\sqlalchemy\\orm\\session.py:2365\u001b[39m, in \u001b[36mSession.execute\u001b[39m\u001b[34m(self, statement, params, execution_options, bind_arguments, _parent_execute_state, _add_event)\u001b[39m\n\u001b[32m   2315\u001b[39m \u001b[38;5;250m\u001b[39m\u001b[33mr\u001b[39m\u001b[33;03m\"\"\"Execute a SQL expression construct.\u001b[39;00m\n\u001b[32m   2316\u001b[39m \n\u001b[32m   2317\u001b[39m \u001b[33;03mReturns a :class:`_engine.Result` object representing\u001b[39;00m\n\u001b[32m   (...)\u001b[39m\u001b[32m   2363\u001b[39m \n\u001b[32m   2364\u001b[39m \u001b[33;03m\"\"\"\u001b[39;00m\n\u001b[32m-> \u001b[39m\u001b[32m2365\u001b[39m \u001b[38;5;28;01mreturn\u001b[39;00m \u001b[38;5;28;43mself\u001b[39;49m\u001b[43m.\u001b[49m\u001b[43m_execute_internal\u001b[49m\u001b[43m(\u001b[49m\n\u001b[32m   2366\u001b[39m \u001b[43m    \u001b[49m\u001b[43mstatement\u001b[49m\u001b[43m,\u001b[49m\n\u001b[32m   2367\u001b[39m \u001b[43m    \u001b[49m\u001b[43mparams\u001b[49m\u001b[43m,\u001b[49m\n\u001b[32m   2368\u001b[39m \u001b[43m    \u001b[49m\u001b[43mexecution_options\u001b[49m\u001b[43m=\u001b[49m\u001b[43mexecution_options\u001b[49m\u001b[43m,\u001b[49m\n\u001b[32m   2369\u001b[39m \u001b[43m    \u001b[49m\u001b[43mbind_arguments\u001b[49m\u001b[43m=\u001b[49m\u001b[43mbind_arguments\u001b[49m\u001b[43m,\u001b[49m\n\u001b[32m   2370\u001b[39m \u001b[43m    \u001b[49m\u001b[43m_parent_execute_state\u001b[49m\u001b[43m=\u001b[49m\u001b[43m_parent_execute_state\u001b[49m\u001b[43m,\u001b[49m\n\u001b[32m   2371\u001b[39m \u001b[43m    \u001b[49m\u001b[43m_add_event\u001b[49m\u001b[43m=\u001b[49m\u001b[43m_add_event\u001b[49m\u001b[43m,\u001b[49m\n\u001b[32m   2372\u001b[39m \u001b[43m\u001b[49m\u001b[43m)\u001b[49m\n",
      "\u001b[36mFile \u001b[39m\u001b[32mE:\\SRP\\Code\\env\\Lib\\site-packages\\sqlalchemy\\orm\\session.py:2251\u001b[39m, in \u001b[36mSession._execute_internal\u001b[39m\u001b[34m(self, statement, params, execution_options, bind_arguments, _parent_execute_state, _add_event, _scalar_result)\u001b[39m\n\u001b[32m   2250\u001b[39m \u001b[38;5;28;01mif\u001b[39;00m compile_state_cls:\n\u001b[32m-> \u001b[39m\u001b[32m2251\u001b[39m     result: Result[Any] = \u001b[43mcompile_state_cls\u001b[49m\u001b[43m.\u001b[49m\u001b[43morm_execute_statement\u001b[49m\u001b[43m(\u001b[49m\n\u001b[32m   2252\u001b[39m \u001b[43m        \u001b[49m\u001b[38;5;28;43mself\u001b[39;49m\u001b[43m,\u001b[49m\n\u001b[32m   2253\u001b[39m \u001b[43m        \u001b[49m\u001b[43mstatement\u001b[49m\u001b[43m,\u001b[49m\n\u001b[32m   2254\u001b[39m \u001b[43m        \u001b[49m\u001b[43mparams\u001b[49m\u001b[43m \u001b[49m\u001b[38;5;129;43;01mor\u001b[39;49;00m\u001b[43m \u001b[49m\u001b[43m{\u001b[49m\u001b[43m}\u001b[49m\u001b[43m,\u001b[49m\n\u001b[32m   2255\u001b[39m \u001b[43m        \u001b[49m\u001b[43mexecution_options\u001b[49m\u001b[43m,\u001b[49m\n\u001b[32m   2256\u001b[39m \u001b[43m        \u001b[49m\u001b[43mbind_arguments\u001b[49m\u001b[43m,\u001b[49m\n\u001b[32m   2257\u001b[39m \u001b[43m        \u001b[49m\u001b[43mconn\u001b[49m\u001b[43m,\u001b[49m\n\u001b[32m   2258\u001b[39m \u001b[43m    \u001b[49m\u001b[43m)\u001b[49m\n\u001b[32m   2259\u001b[39m \u001b[38;5;28;01melse\u001b[39;00m:\n",
      "\u001b[36mFile \u001b[39m\u001b[32mE:\\SRP\\Code\\env\\Lib\\site-packages\\sqlalchemy\\orm\\context.py:306\u001b[39m, in \u001b[36mAbstractORMCompileState.orm_execute_statement\u001b[39m\u001b[34m(cls, session, statement, params, execution_options, bind_arguments, conn)\u001b[39m\n\u001b[32m    296\u001b[39m \u001b[38;5;129m@classmethod\u001b[39m\n\u001b[32m    297\u001b[39m \u001b[38;5;28;01mdef\u001b[39;00m\u001b[38;5;250m \u001b[39m\u001b[34morm_execute_statement\u001b[39m(\n\u001b[32m    298\u001b[39m     \u001b[38;5;28mcls\u001b[39m,\n\u001b[32m   (...)\u001b[39m\u001b[32m    304\u001b[39m     conn,\n\u001b[32m    305\u001b[39m ) -> Result:\n\u001b[32m--> \u001b[39m\u001b[32m306\u001b[39m     result = \u001b[43mconn\u001b[49m\u001b[43m.\u001b[49m\u001b[43mexecute\u001b[49m\u001b[43m(\u001b[49m\n\u001b[32m    307\u001b[39m \u001b[43m        \u001b[49m\u001b[43mstatement\u001b[49m\u001b[43m,\u001b[49m\u001b[43m \u001b[49m\u001b[43mparams\u001b[49m\u001b[43m \u001b[49m\u001b[38;5;129;43;01mor\u001b[39;49;00m\u001b[43m \u001b[49m\u001b[43m{\u001b[49m\u001b[43m}\u001b[49m\u001b[43m,\u001b[49m\u001b[43m \u001b[49m\u001b[43mexecution_options\u001b[49m\u001b[43m=\u001b[49m\u001b[43mexecution_options\u001b[49m\n\u001b[32m    308\u001b[39m \u001b[43m    \u001b[49m\u001b[43m)\u001b[49m\n\u001b[32m    309\u001b[39m     \u001b[38;5;28;01mreturn\u001b[39;00m \u001b[38;5;28mcls\u001b[39m.orm_setup_cursor_result(\n\u001b[32m    310\u001b[39m         session,\n\u001b[32m    311\u001b[39m         statement,\n\u001b[32m   (...)\u001b[39m\u001b[32m    315\u001b[39m         result,\n\u001b[32m    316\u001b[39m     )\n",
      "\u001b[36mFile \u001b[39m\u001b[32mE:\\SRP\\Code\\env\\Lib\\site-packages\\sqlalchemy\\engine\\base.py:1413\u001b[39m, in \u001b[36mConnection.execute\u001b[39m\u001b[34m(self, statement, parameters, execution_options)\u001b[39m\n\u001b[32m   1412\u001b[39m \u001b[38;5;28;01melse\u001b[39;00m:\n\u001b[32m-> \u001b[39m\u001b[32m1413\u001b[39m     \u001b[38;5;28;01mreturn\u001b[39;00m \u001b[43mmeth\u001b[49m\u001b[43m(\u001b[49m\n\u001b[32m   1414\u001b[39m \u001b[43m        \u001b[49m\u001b[38;5;28;43mself\u001b[39;49m\u001b[43m,\u001b[49m\n\u001b[32m   1415\u001b[39m \u001b[43m        \u001b[49m\u001b[43mdistilled_parameters\u001b[49m\u001b[43m,\u001b[49m\n\u001b[32m   1416\u001b[39m \u001b[43m        \u001b[49m\u001b[43mexecution_options\u001b[49m\u001b[43m \u001b[49m\u001b[38;5;129;43;01mor\u001b[39;49;00m\u001b[43m \u001b[49m\u001b[43mNO_OPTIONS\u001b[49m\u001b[43m,\u001b[49m\n\u001b[32m   1417\u001b[39m \u001b[43m    \u001b[49m\u001b[43m)\u001b[49m\n",
      "\u001b[36mFile \u001b[39m\u001b[32mE:\\SRP\\Code\\env\\Lib\\site-packages\\sqlalchemy\\sql\\elements.py:526\u001b[39m, in \u001b[36mClauseElement._execute_on_connection\u001b[39m\u001b[34m(self, connection, distilled_params, execution_options)\u001b[39m\n\u001b[32m    525\u001b[39m         \u001b[38;5;28;01massert\u001b[39;00m \u001b[38;5;28misinstance\u001b[39m(\u001b[38;5;28mself\u001b[39m, Executable)\n\u001b[32m--> \u001b[39m\u001b[32m526\u001b[39m     \u001b[38;5;28;01mreturn\u001b[39;00m \u001b[43mconnection\u001b[49m\u001b[43m.\u001b[49m\u001b[43m_execute_clauseelement\u001b[49m\u001b[43m(\u001b[49m\n\u001b[32m    527\u001b[39m \u001b[43m        \u001b[49m\u001b[38;5;28;43mself\u001b[39;49m\u001b[43m,\u001b[49m\u001b[43m \u001b[49m\u001b[43mdistilled_params\u001b[49m\u001b[43m,\u001b[49m\u001b[43m \u001b[49m\u001b[43mexecution_options\u001b[49m\n\u001b[32m    528\u001b[39m \u001b[43m    \u001b[49m\u001b[43m)\u001b[49m\n\u001b[32m    529\u001b[39m \u001b[38;5;28;01melse\u001b[39;00m:\n",
      "\u001b[36mFile \u001b[39m\u001b[32mE:\\SRP\\Code\\env\\Lib\\site-packages\\sqlalchemy\\engine\\base.py:1635\u001b[39m, in \u001b[36mConnection._execute_clauseelement\u001b[39m\u001b[34m(self, elem, distilled_parameters, execution_options)\u001b[39m\n\u001b[32m   1627\u001b[39m compiled_sql, extracted_params, cache_hit = elem._compile_w_cache(\n\u001b[32m   1628\u001b[39m     dialect=dialect,\n\u001b[32m   1629\u001b[39m     compiled_cache=compiled_cache,\n\u001b[32m   (...)\u001b[39m\u001b[32m   1633\u001b[39m     linting=\u001b[38;5;28mself\u001b[39m.dialect.compiler_linting | compiler.WARN_LINTING,\n\u001b[32m   1634\u001b[39m )\n\u001b[32m-> \u001b[39m\u001b[32m1635\u001b[39m ret = \u001b[38;5;28;43mself\u001b[39;49m\u001b[43m.\u001b[49m\u001b[43m_execute_context\u001b[49m\u001b[43m(\u001b[49m\n\u001b[32m   1636\u001b[39m \u001b[43m    \u001b[49m\u001b[43mdialect\u001b[49m\u001b[43m,\u001b[49m\n\u001b[32m   1637\u001b[39m \u001b[43m    \u001b[49m\u001b[43mdialect\u001b[49m\u001b[43m.\u001b[49m\u001b[43mexecution_ctx_cls\u001b[49m\u001b[43m.\u001b[49m\u001b[43m_init_compiled\u001b[49m\u001b[43m,\u001b[49m\n\u001b[32m   1638\u001b[39m \u001b[43m    \u001b[49m\u001b[43mcompiled_sql\u001b[49m\u001b[43m,\u001b[49m\n\u001b[32m   1639\u001b[39m \u001b[43m    \u001b[49m\u001b[43mdistilled_parameters\u001b[49m\u001b[43m,\u001b[49m\n\u001b[32m   1640\u001b[39m \u001b[43m    \u001b[49m\u001b[43mexecution_options\u001b[49m\u001b[43m,\u001b[49m\n\u001b[32m   1641\u001b[39m \u001b[43m    \u001b[49m\u001b[43mcompiled_sql\u001b[49m\u001b[43m,\u001b[49m\n\u001b[32m   1642\u001b[39m \u001b[43m    \u001b[49m\u001b[43mdistilled_parameters\u001b[49m\u001b[43m,\u001b[49m\n\u001b[32m   1643\u001b[39m \u001b[43m    \u001b[49m\u001b[43melem\u001b[49m\u001b[43m,\u001b[49m\n\u001b[32m   1644\u001b[39m \u001b[43m    \u001b[49m\u001b[43mextracted_params\u001b[49m\u001b[43m,\u001b[49m\n\u001b[32m   1645\u001b[39m \u001b[43m    \u001b[49m\u001b[43mcache_hit\u001b[49m\u001b[43m=\u001b[49m\u001b[43mcache_hit\u001b[49m\u001b[43m,\u001b[49m\n\u001b[32m   1646\u001b[39m \u001b[43m\u001b[49m\u001b[43m)\u001b[49m\n\u001b[32m   1647\u001b[39m \u001b[38;5;28;01mif\u001b[39;00m has_events:\n",
      "\u001b[36mFile \u001b[39m\u001b[32mE:\\SRP\\Code\\env\\Lib\\site-packages\\sqlalchemy\\engine\\base.py:1840\u001b[39m, in \u001b[36mConnection._execute_context\u001b[39m\u001b[34m(self, dialect, constructor, statement, parameters, execution_options, *args, **kw)\u001b[39m\n\u001b[32m   1839\u001b[39m \u001b[38;5;28;01melse\u001b[39;00m:\n\u001b[32m-> \u001b[39m\u001b[32m1840\u001b[39m     \u001b[38;5;28;01mreturn\u001b[39;00m \u001b[38;5;28;43mself\u001b[39;49m\u001b[43m.\u001b[49m\u001b[43m_exec_single_context\u001b[49m\u001b[43m(\u001b[49m\n\u001b[32m   1841\u001b[39m \u001b[43m        \u001b[49m\u001b[43mdialect\u001b[49m\u001b[43m,\u001b[49m\u001b[43m \u001b[49m\u001b[43mcontext\u001b[49m\u001b[43m,\u001b[49m\u001b[43m \u001b[49m\u001b[43mstatement\u001b[49m\u001b[43m,\u001b[49m\u001b[43m \u001b[49m\u001b[43mparameters\u001b[49m\n\u001b[32m   1842\u001b[39m \u001b[43m    \u001b[49m\u001b[43m)\u001b[49m\n",
      "\u001b[36mFile \u001b[39m\u001b[32mE:\\SRP\\Code\\env\\Lib\\site-packages\\sqlalchemy\\engine\\base.py:1980\u001b[39m, in \u001b[36mConnection._exec_single_context\u001b[39m\u001b[34m(self, dialect, context, statement, parameters)\u001b[39m\n\u001b[32m   1979\u001b[39m \u001b[38;5;28;01mexcept\u001b[39;00m \u001b[38;5;167;01mBaseException\u001b[39;00m \u001b[38;5;28;01mas\u001b[39;00m e:\n\u001b[32m-> \u001b[39m\u001b[32m1980\u001b[39m     \u001b[38;5;28;43mself\u001b[39;49m\u001b[43m.\u001b[49m\u001b[43m_handle_dbapi_exception\u001b[49m\u001b[43m(\u001b[49m\n\u001b[32m   1981\u001b[39m \u001b[43m        \u001b[49m\u001b[43me\u001b[49m\u001b[43m,\u001b[49m\u001b[43m \u001b[49m\u001b[43mstr_statement\u001b[49m\u001b[43m,\u001b[49m\u001b[43m \u001b[49m\u001b[43meffective_parameters\u001b[49m\u001b[43m,\u001b[49m\u001b[43m \u001b[49m\u001b[43mcursor\u001b[49m\u001b[43m,\u001b[49m\u001b[43m \u001b[49m\u001b[43mcontext\u001b[49m\n\u001b[32m   1982\u001b[39m \u001b[43m    \u001b[49m\u001b[43m)\u001b[49m\n\u001b[32m   1984\u001b[39m \u001b[38;5;28;01mreturn\u001b[39;00m result\n",
      "\u001b[36mFile \u001b[39m\u001b[32mE:\\SRP\\Code\\env\\Lib\\site-packages\\sqlalchemy\\engine\\base.py:2349\u001b[39m, in \u001b[36mConnection._handle_dbapi_exception\u001b[39m\u001b[34m(self, e, statement, parameters, cursor, context, is_sub_exec)\u001b[39m\n\u001b[32m   2348\u001b[39m     \u001b[38;5;28;01massert\u001b[39;00m sqlalchemy_exception \u001b[38;5;129;01mis\u001b[39;00m \u001b[38;5;129;01mnot\u001b[39;00m \u001b[38;5;28;01mNone\u001b[39;00m\n\u001b[32m-> \u001b[39m\u001b[32m2349\u001b[39m     \u001b[38;5;28;01mraise\u001b[39;00m sqlalchemy_exception.with_traceback(exc_info[\u001b[32m2\u001b[39m]) \u001b[38;5;28;01mfrom\u001b[39;00m\u001b[38;5;250m \u001b[39m\u001b[34;01me\u001b[39;00m\n\u001b[32m   2350\u001b[39m \u001b[38;5;28;01melse\u001b[39;00m:\n",
      "\u001b[36mFile \u001b[39m\u001b[32mE:\\SRP\\Code\\env\\Lib\\site-packages\\sqlalchemy\\engine\\base.py:1961\u001b[39m, in \u001b[36mConnection._exec_single_context\u001b[39m\u001b[34m(self, dialect, context, statement, parameters)\u001b[39m\n\u001b[32m   1960\u001b[39m     \u001b[38;5;28;01mif\u001b[39;00m \u001b[38;5;129;01mnot\u001b[39;00m evt_handled:\n\u001b[32m-> \u001b[39m\u001b[32m1961\u001b[39m         \u001b[38;5;28;43mself\u001b[39;49m\u001b[43m.\u001b[49m\u001b[43mdialect\u001b[49m\u001b[43m.\u001b[49m\u001b[43mdo_execute\u001b[49m\u001b[43m(\u001b[49m\n\u001b[32m   1962\u001b[39m \u001b[43m            \u001b[49m\u001b[43mcursor\u001b[49m\u001b[43m,\u001b[49m\u001b[43m \u001b[49m\u001b[43mstr_statement\u001b[49m\u001b[43m,\u001b[49m\u001b[43m \u001b[49m\u001b[43meffective_parameters\u001b[49m\u001b[43m,\u001b[49m\u001b[43m \u001b[49m\u001b[43mcontext\u001b[49m\n\u001b[32m   1963\u001b[39m \u001b[43m        \u001b[49m\u001b[43m)\u001b[49m\n\u001b[32m   1965\u001b[39m \u001b[38;5;28;01mif\u001b[39;00m \u001b[38;5;28mself\u001b[39m._has_events \u001b[38;5;129;01mor\u001b[39;00m \u001b[38;5;28mself\u001b[39m.engine._has_events:\n",
      "\u001b[36mFile \u001b[39m\u001b[32mE:\\SRP\\Code\\env\\Lib\\site-packages\\sqlalchemy\\engine\\default.py:944\u001b[39m, in \u001b[36mDefaultDialect.do_execute\u001b[39m\u001b[34m(self, cursor, statement, parameters, context)\u001b[39m\n\u001b[32m    943\u001b[39m \u001b[38;5;28;01mdef\u001b[39;00m\u001b[38;5;250m \u001b[39m\u001b[34mdo_execute\u001b[39m(\u001b[38;5;28mself\u001b[39m, cursor, statement, parameters, context=\u001b[38;5;28;01mNone\u001b[39;00m):\n\u001b[32m--> \u001b[39m\u001b[32m944\u001b[39m     \u001b[43mcursor\u001b[49m\u001b[43m.\u001b[49m\u001b[43mexecute\u001b[49m\u001b[43m(\u001b[49m\u001b[43mstatement\u001b[49m\u001b[43m,\u001b[49m\u001b[43m \u001b[49m\u001b[43mparameters\u001b[49m\u001b[43m)\u001b[49m\n",
      "\u001b[31mOperationalError\u001b[39m: (psycopg2.OperationalError) server closed the connection unexpectedly\n\tThis probably means the server terminated abnormally\n\tbefore or while processing the request.\nserver closed the connection unexpectedly\n\tThis probably means the server terminated abnormally\n\tbefore or while processing the request.\n\n[SQL: SELECT studies.study_id AS studies_study_id, studies.study_name AS studies_study_name \nFROM studies \nWHERE studies.study_id = %(study_id_1)s]\n[parameters: {'study_id_1': 6}]\n(Background on this error at: https://sqlalche.me/e/20/e3q8)",
      "\nThe above exception was the direct cause of the following exception:\n",
      "\u001b[31mStorageInternalError\u001b[39m                      Traceback (most recent call last)",
      "\u001b[36mCell\u001b[39m\u001b[36m \u001b[39m\u001b[32mIn[12]\u001b[39m\u001b[32m, line 10\u001b[39m\n\u001b[32m      8\u001b[39m     \u001b[38;5;28;01mif\u001b[39;00m os.path.exists(backup_path):\n\u001b[32m      9\u001b[39m         os.remove(backup_path)\n\u001b[32m---> \u001b[39m\u001b[32m10\u001b[39m     \u001b[43moptuna\u001b[49m\u001b[43m.\u001b[49m\u001b[43mcopy_study\u001b[49m\u001b[43m(\u001b[49m\n\u001b[32m     11\u001b[39m \u001b[43m        \u001b[49m\u001b[43mfrom_study_name\u001b[49m\u001b[43m=\u001b[49m\u001b[33;43m\"\u001b[39;49m\u001b[33;43mSRP_Model_Study\u001b[39;49m\u001b[33;43m\"\u001b[39;49m\u001b[43m,\u001b[49m\n\u001b[32m     12\u001b[39m \u001b[43m        \u001b[49m\u001b[43mfrom_storage\u001b[49m\u001b[43m=\u001b[49m\u001b[43mstorage\u001b[49m\u001b[43m,\u001b[49m\n\u001b[32m     13\u001b[39m \u001b[43m        \u001b[49m\u001b[43mto_storage\u001b[49m\u001b[43m=\u001b[49m\u001b[33;43mf\u001b[39;49m\u001b[33;43m\"\u001b[39;49m\u001b[33;43msqlite:///\u001b[39;49m\u001b[38;5;132;43;01m{\u001b[39;49;00m\u001b[43mbackup_path\u001b[49m\u001b[38;5;132;43;01m}\u001b[39;49;00m\u001b[33;43m\"\u001b[39;49m\n\u001b[32m     14\u001b[39m \u001b[43m    \u001b[49m\u001b[43m)\u001b[49m\n\u001b[32m     15\u001b[39m \u001b[38;5;28;01mexcept\u001b[39;00m \u001b[38;5;167;01mPermissionError\u001b[39;00m:\n\u001b[32m     16\u001b[39m     \u001b[38;5;28mprint\u001b[39m(\u001b[33m\"\u001b[39m\u001b[33mPermissionError: deleting reference to study\u001b[39m\u001b[33m\"\u001b[39m)\n",
      "\u001b[36mFile \u001b[39m\u001b[32mE:\\SRP\\Code\\env\\Lib\\site-packages\\optuna\\_convert_positional_args.py:83\u001b[39m, in \u001b[36mconvert_positional_args.<locals>.converter_decorator.<locals>.converter_wrapper\u001b[39m\u001b[34m(*args, **kwargs)\u001b[39m\n\u001b[32m     77\u001b[39m     \u001b[38;5;28;01mraise\u001b[39;00m \u001b[38;5;167;01mTypeError\u001b[39;00m(\n\u001b[32m     78\u001b[39m         \u001b[33mf\u001b[39m\u001b[33m\"\u001b[39m\u001b[38;5;132;01m{\u001b[39;00mfunc.\u001b[34m__name__\u001b[39m\u001b[38;5;132;01m}\u001b[39;00m\u001b[33m() got multiple values for arguments \u001b[39m\u001b[38;5;132;01m{\u001b[39;00mduplicated_kwds\u001b[38;5;132;01m}\u001b[39;00m\u001b[33m.\u001b[39m\u001b[33m\"\u001b[39m\n\u001b[32m     79\u001b[39m     )\n\u001b[32m     81\u001b[39m kwargs.update(inferred_kwargs)\n\u001b[32m---> \u001b[39m\u001b[32m83\u001b[39m \u001b[38;5;28;01mreturn\u001b[39;00m \u001b[43mfunc\u001b[49m\u001b[43m(\u001b[49m\u001b[43m*\u001b[49m\u001b[43m*\u001b[49m\u001b[43mkwargs\u001b[49m\u001b[43m)\u001b[49m\n",
      "\u001b[36mFile \u001b[39m\u001b[32mE:\\SRP\\Code\\env\\Lib\\site-packages\\optuna\\study\\study.py:1507\u001b[39m, in \u001b[36mcopy_study\u001b[39m\u001b[34m(from_study_name, from_storage, to_storage, to_study_name)\u001b[39m\n\u001b[32m   1499\u001b[39m from_study = load_study(study_name=from_study_name, storage=from_storage)\n\u001b[32m   1500\u001b[39m to_study = create_study(\n\u001b[32m   1501\u001b[39m     study_name=to_study_name \u001b[38;5;129;01mor\u001b[39;00m from_study_name,\n\u001b[32m   1502\u001b[39m     storage=to_storage,\n\u001b[32m   1503\u001b[39m     directions=from_study.directions,\n\u001b[32m   1504\u001b[39m     load_if_exists=\u001b[38;5;28;01mFalse\u001b[39;00m,\n\u001b[32m   1505\u001b[39m )\n\u001b[32m-> \u001b[39m\u001b[32m1507\u001b[39m \u001b[38;5;28;01mfor\u001b[39;00m key, value \u001b[38;5;129;01min\u001b[39;00m \u001b[43mfrom_study\u001b[49m\u001b[43m.\u001b[49m\u001b[43m_storage\u001b[49m\u001b[43m.\u001b[49m\u001b[43mget_study_system_attrs\u001b[49m\u001b[43m(\u001b[49m\u001b[43mfrom_study\u001b[49m\u001b[43m.\u001b[49m\u001b[43m_study_id\u001b[49m\u001b[43m)\u001b[49m.items():\n\u001b[32m   1508\u001b[39m     to_study._storage.set_study_system_attr(to_study._study_id, key, value)\n\u001b[32m   1510\u001b[39m \u001b[38;5;28;01mfor\u001b[39;00m key, value \u001b[38;5;129;01min\u001b[39;00m from_study.user_attrs.items():\n",
      "\u001b[36mFile \u001b[39m\u001b[32mE:\\SRP\\Code\\env\\Lib\\site-packages\\optuna\\storages\\_cached_storage.py:145\u001b[39m, in \u001b[36m_CachedStorage.get_study_system_attrs\u001b[39m\u001b[34m(self, study_id)\u001b[39m\n\u001b[32m    144\u001b[39m \u001b[38;5;28;01mdef\u001b[39;00m\u001b[38;5;250m \u001b[39m\u001b[34mget_study_system_attrs\u001b[39m(\u001b[38;5;28mself\u001b[39m, study_id: \u001b[38;5;28mint\u001b[39m) -> Dict[\u001b[38;5;28mstr\u001b[39m, Any]:\n\u001b[32m--> \u001b[39m\u001b[32m145\u001b[39m     \u001b[38;5;28;01mreturn\u001b[39;00m \u001b[38;5;28;43mself\u001b[39;49m\u001b[43m.\u001b[49m\u001b[43m_backend\u001b[49m\u001b[43m.\u001b[49m\u001b[43mget_study_system_attrs\u001b[49m\u001b[43m(\u001b[49m\u001b[43mstudy_id\u001b[49m\u001b[43m)\u001b[49m\n",
      "\u001b[36mFile \u001b[39m\u001b[32mE:\\SRP\\Code\\env\\Lib\\site-packages\\optuna\\storages\\_rdb\\storage.py:358\u001b[39m, in \u001b[36mRDBStorage.get_study_system_attrs\u001b[39m\u001b[34m(self, study_id)\u001b[39m\n\u001b[32m    357\u001b[39m \u001b[38;5;28;01mdef\u001b[39;00m\u001b[38;5;250m \u001b[39m\u001b[34mget_study_system_attrs\u001b[39m(\u001b[38;5;28mself\u001b[39m, study_id: \u001b[38;5;28mint\u001b[39m) -> Dict[\u001b[38;5;28mstr\u001b[39m, Any]:\n\u001b[32m--> \u001b[39m\u001b[32m358\u001b[39m     \u001b[38;5;28;01mwith\u001b[39;00m _create_scoped_session(\u001b[38;5;28mself\u001b[39m.scoped_session) \u001b[38;5;28;01mas\u001b[39;00m session:\n\u001b[32m    359\u001b[39m         \u001b[38;5;66;03m# Ensure that that study exists.\u001b[39;00m\n\u001b[32m    360\u001b[39m         models.StudyModel.find_or_raise_by_id(study_id, session)\n\u001b[32m    361\u001b[39m         attributes = models.StudySystemAttributeModel.where_study_id(study_id, session)\n",
      "\u001b[36mFile \u001b[39m\u001b[32mE:\\SRP\\Code\\env\\Lib\\contextlib.py:162\u001b[39m, in \u001b[36m_GeneratorContextManager.__exit__\u001b[39m\u001b[34m(self, typ, value, traceback)\u001b[39m\n\u001b[32m    160\u001b[39m     value = typ()\n\u001b[32m    161\u001b[39m \u001b[38;5;28;01mtry\u001b[39;00m:\n\u001b[32m--> \u001b[39m\u001b[32m162\u001b[39m     \u001b[38;5;28;43mself\u001b[39;49m\u001b[43m.\u001b[49m\u001b[43mgen\u001b[49m\u001b[43m.\u001b[49m\u001b[43mthrow\u001b[49m\u001b[43m(\u001b[49m\u001b[43mvalue\u001b[49m\u001b[43m)\u001b[49m\n\u001b[32m    163\u001b[39m \u001b[38;5;28;01mexcept\u001b[39;00m \u001b[38;5;167;01mStopIteration\u001b[39;00m \u001b[38;5;28;01mas\u001b[39;00m exc:\n\u001b[32m    164\u001b[39m     \u001b[38;5;66;03m# Suppress StopIteration *unless* it's the same exception that\u001b[39;00m\n\u001b[32m    165\u001b[39m     \u001b[38;5;66;03m# was passed to throw().  This prevents a StopIteration\u001b[39;00m\n\u001b[32m    166\u001b[39m     \u001b[38;5;66;03m# raised inside the \"with\" statement from being suppressed.\u001b[39;00m\n\u001b[32m    167\u001b[39m     \u001b[38;5;28;01mreturn\u001b[39;00m exc \u001b[38;5;129;01mis\u001b[39;00m \u001b[38;5;129;01mnot\u001b[39;00m value\n",
      "\u001b[36mFile \u001b[39m\u001b[32mE:\\SRP\\Code\\env\\Lib\\site-packages\\optuna\\storages\\_rdb\\storage.py:90\u001b[39m, in \u001b[36m_create_scoped_session\u001b[39m\u001b[34m(scoped_session, ignore_integrity_error)\u001b[39m\n\u001b[32m     84\u001b[39m     session.rollback()\n\u001b[32m     85\u001b[39m     message = (\n\u001b[32m     86\u001b[39m         \u001b[33m\"\u001b[39m\u001b[33mAn exception is raised during the commit. \u001b[39m\u001b[33m\"\u001b[39m\n\u001b[32m     87\u001b[39m         \u001b[33m\"\u001b[39m\u001b[33mThis typically happens due to invalid data in the commit, \u001b[39m\u001b[33m\"\u001b[39m\n\u001b[32m     88\u001b[39m         \u001b[33m\"\u001b[39m\u001b[33me.g. exceeding max length. \u001b[39m\u001b[33m\"\u001b[39m\n\u001b[32m     89\u001b[39m     )\n\u001b[32m---> \u001b[39m\u001b[32m90\u001b[39m     \u001b[38;5;28;01mraise\u001b[39;00m optuna.exceptions.StorageInternalError(message) \u001b[38;5;28;01mfrom\u001b[39;00m\u001b[38;5;250m \u001b[39m\u001b[34;01me\u001b[39;00m\n\u001b[32m     91\u001b[39m \u001b[38;5;28;01mexcept\u001b[39;00m \u001b[38;5;167;01mException\u001b[39;00m:\n\u001b[32m     92\u001b[39m     session.rollback()\n",
      "\u001b[31mStorageInternalError\u001b[39m: An exception is raised during the commit. This typically happens due to invalid data in the commit, e.g. exceeding max length. "
     ]
    }
   ],
   "source": [
    "study.optimize(objective,n_trials=1,show_progress_bar=True)\n",
    "\n",
    "\n",
    "\n",
    "\n",
    "    \n",
    "try:\n",
    "    if os.path.exists(backup_path):\n",
    "        os.remove(backup_path)\n",
    "    optuna.copy_study(\n",
    "        from_study_name=\"SRP_Model_Study\",\n",
    "        from_storage=storage,\n",
    "        to_storage=f\"sqlite:///{backup_path}\"\n",
    "    )\n",
    "except PermissionError:\n",
    "    print(\"PermissionError: deleting reference to study\")\n",
    "    for var in list(globals()):\n",
    "        if isinstance(globals()[var], optuna.study.Study):\n",
    "            s = globals()[var]\n",
    "            # only delete if the study is backed by SQLite (not your Aiven storage)\n",
    "            if isinstance(s._storage, optuna.storages.RDBStorage) and \\\n",
    "            str(s._storage.url).startswith(\"sqlite:///\"):\n",
    "                del globals()[var]\n",
    "    gc.collect()\n",
    "    if os.path.exists(backup_path):\n",
    "        os.remove(backup_path)\n",
    "    optuna.copy_study(\n",
    "        from_study_name=\"SRP_Model_Study\",\n",
    "        from_storage=storage,\n",
    "        to_storage=f\"sqlite:///{backup_path}\"\n",
    "    )"
   ]
  },
  {
   "cell_type": "code",
   "execution_count": 11,
   "id": "4dfa88aa",
   "metadata": {},
   "outputs": [
    {
     "name": "stdout",
     "output_type": "stream",
     "text": [
      "A new study created in RDB with name: SRP_Model_Study\n"
     ]
    },
    {
     "name": "stderr",
     "output_type": "stream",
     "text": [
      "[I 2025-08-21 20:27:32,082] A new study created in RDB with name: SRP_Model_Study\n"
     ]
    }
   ],
   "source": [
    "if os.path.exists(backup_path):\n",
    "    os.remove(backup_path)\n",
    "\n",
    "optuna.copy_study(\n",
    "    from_study_name=\"SRP_Model_Study\",\n",
    "    from_storage=storage,\n",
    "    to_storage=f\"sqlite:///{backup_path}\"\n",
    ")"
   ]
  },
  {
   "cell_type": "markdown",
   "id": "84f617ad",
   "metadata": {},
   "source": [
    "### Free up backup study"
   ]
  },
  {
   "cell_type": "code",
   "execution_count": 10,
   "id": "44f40d83",
   "metadata": {},
   "outputs": [
    {
     "data": {
      "text/plain": [
       "7004"
      ]
     },
     "execution_count": 10,
     "metadata": {},
     "output_type": "execute_result"
    }
   ],
   "source": [
    "for var in list(globals()):\n",
    "    if isinstance(globals()[var], optuna.study.Study):\n",
    "        s = globals()[var]\n",
    "        # only delete if the study is backed by SQLite (not your Aiven storage)\n",
    "        if isinstance(s._storage, optuna.storages.RDBStorage) and \\\n",
    "           str(s._storage.url).startswith(\"sqlite:///\"):\n",
    "            del globals()[var]\n",
    "\n",
    "gc.collect()\n"
   ]
  },
  {
   "cell_type": "code",
   "execution_count": null,
   "id": "89dfacb8-5aac-4057-8319-16cf0bc7123f",
   "metadata": {},
   "outputs": [],
   "source": [
    "def retry_failed_trials(study: optuna.Study, objective_func):\n",
    "    failed_trials = [t for t in study.trials if t.state == optuna.trial.TrialState.FAIL]\n",
    "    print(f\"Found {len(failed_trials)} failed trials. Retrying...\")\n",
    "\n",
    "    for trial in failed_trials:\n",
    "        print(f\"Retrying trial #{trial.number} with params {trial.params}\")\n",
    "\n",
    "        def fixed_objective(trial_):\n",
    "            trial_.set_user_attr(\"original_trial_number\", trial.number)\n",
    "            for key, value in trial.params.items():\n",
    "                if isinstance(value, float):\n",
    "                    trial_.suggest_float(key, value, value)  # no log param here\n",
    "                elif isinstance(value, int):\n",
    "                    trial_.suggest_int(key, value, value)\n",
    "                else:\n",
    "                    trial_.suggest_categorical(key, [value])\n",
    "            return objective_func(trial_)\n",
    "\n",
    "        study.optimize(fixed_objective, n_trials=1)\n",
    "\n",
    "    print(\"Retried all failed trials.\")\n"
   ]
  },
  {
   "cell_type": "code",
   "execution_count": null,
   "id": "5a79b67a-c379-41db-96a6-517aef55efb3",
   "metadata": {},
   "outputs": [],
   "source": [
    "retry_failed_trials(study,objective)"
   ]
  },
  {
   "cell_type": "markdown",
   "id": "59c92733",
   "metadata": {},
   "source": [
    "## Delete study"
   ]
  },
  {
   "cell_type": "code",
   "execution_count": 19,
   "id": "3daa0e0f",
   "metadata": {},
   "outputs": [],
   "source": [
    "if input(\"Confirm delete? [y/n]\") == \"y\":\n",
    "    optuna.delete_study(study_name=\"SRP_Model_Study\",storage=storage)"
   ]
  }
 ],
 "metadata": {
  "kernelspec": {
   "display_name": "Python 3 (ipykernel)",
   "language": "python",
   "name": "python3"
  },
  "language_info": {
   "codemirror_mode": {
    "name": "ipython",
    "version": 3
   },
   "file_extension": ".py",
   "mimetype": "text/x-python",
   "name": "python",
   "nbconvert_exporter": "python",
   "pygments_lexer": "ipython3",
   "version": "3.13.5"
  }
 },
 "nbformat": 4,
 "nbformat_minor": 5
}
