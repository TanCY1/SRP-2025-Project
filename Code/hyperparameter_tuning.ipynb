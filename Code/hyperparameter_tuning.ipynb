{
 "cells": [
  {
   "cell_type": "code",
   "execution_count": 1,
   "id": "f871af03-5ad4-4807-bd7a-515ce75391fb",
   "metadata": {},
   "outputs": [
    {
     "name": "stdout",
     "output_type": "stream",
     "text": [
      "E:\\SRP\n"
     ]
    }
   ],
   "source": [
    "%cd E:\\SRP\n",
    "import os,sys\n",
    "notebook_dir = os.getcwd()\n",
    "path = os.path.abspath(os.path.join(notebook_dir, \"Code\"))\n",
    "sys.path.append(path)\n",
    "import optuna\n",
    "from sklearn.model_selection import StratifiedKFold\n",
    "from sklearn.metrics import roc_auc_score,roc_curve,classification_report\n",
    "from generateSplits import generateSplits\n",
    "import pandas as pd\n",
    "from trainModel import trainModel\n",
    "from Dataset import ModelDataset\n",
    "from model import Model\n",
    "from torch.utils.data import DataLoader\n",
    "import torch\n",
    "import matplotlib.pyplot as plt\n",
    "from optuna.storages import RDBStorage,RetryFailedTrialCallback\n",
    "import logging\n",
    "import gc"
   ]
  },
  {
   "cell_type": "code",
   "execution_count": 3,
   "id": "f0cc27f1-af7f-4564-9730-c1c94f2a04fe",
   "metadata": {},
   "outputs": [],
   "source": [
    "device = torch.device(\"cuda\") if torch.cuda.is_available else torch.device(\"cpu\")\n",
    "\n",
    "metadata = pd.read_csv(\"Datasets/BreastDCEDL_spy1/BreastDCEDL_spy1_metadata.csv\")\n",
    "train_df,val_df = generateSplits(metadata,0.2,seed=42)\n",
    "train_df = train_df[[\"pid\",\"pCR\",\"ER\",\"PR\",\"HER2\"]].set_index(\"pid\",drop=True)\n",
    "val_df = val_df[[\"pid\",\"pCR\",\"ER\",\"PR\",\"HER2\"]].set_index(\"pid\",drop=True)\n",
    "skf = StratifiedKFold(n_splits=4,shuffle=True,random_state=42)\n",
    "backup_path = \"study_backup.db\""
   ]
  },
  {
   "cell_type": "code",
   "execution_count": 4,
   "id": "5010e72b-842e-49bb-9ebb-441e7381ec6a",
   "metadata": {},
   "outputs": [],
   "source": [
    "def evaluate(model:torch.nn.Module,val_loader:torch.utils.data.DataLoader):\n",
    "    model.eval()\n",
    "    model.to(device)\n",
    "    \n",
    "    y_score = []\n",
    "    y_true = []\n",
    "    y_pred = []\n",
    "    with torch.no_grad():\n",
    "        for images,mols,labels in val_loader:\n",
    "            images = images.to(device)\n",
    "            mols = mols.to(device)\n",
    "            logits = model(images,mols)\n",
    "            scores = torch.nn.functional.softmax(logits,dim=1)[:,1]\n",
    "            y_score.extend(scores.cpu().numpy())\n",
    "            y_true.extend(labels.cpu().numpy())\n",
    "    \n",
    "    return roc_auc_score(y_true,y_score)\n",
    "  "
   ]
  },
  {
   "cell_type": "code",
   "execution_count": 5,
   "id": "9b731bba-a45d-4ec7-b67a-86cddb59f1be",
   "metadata": {},
   "outputs": [],
   "source": [
    "def objective(trial:optuna.Trial):\n",
    "    optimisers = {\"Adam\":torch.optim.Adam,\"SGD\":torch.optim.SGD,\"AdamW\":torch.optim.AdamW}\n",
    "    lr = trial.suggest_float(\"lr\",1e-5,1e-3,log=True)\n",
    "    weight_decay = trial.suggest_float(\"weight_decay\", 1e-8, 1e-1, log=True)\n",
    "    batch_size = trial.suggest_categorical(\"batch_size\",[4,8,16,32,64,128])\n",
    "    optimiser_name = trial.suggest_categorical(\"optimiser_name\", [\"Adam\", \"SGD\",\"AdamW\"])\n",
    "    momentum = None  # Default value\n",
    "    if optimiser_name == \"SGD\":\n",
    "        momentum = trial.suggest_float(\"momentum\",0.0,1.0)\n",
    "    optimiser_class = optimisers[optimiser_name]\n",
    "    \n",
    "    scores = []\n",
    "    \n",
    "    for train_index,val_index in skf.split(train_df, train_df[\"pCR\"]):\n",
    "        fold_train_df = train_df.iloc[train_index]\n",
    "        fold_val_df = train_df.iloc[val_index]\n",
    "        fold_train_dataset = ModelDataset(fold_train_df,class_samples={0:3,1:8},loading_bar=False,caching=True)\n",
    "        fold_train_loader = DataLoader(fold_train_dataset,batch_size=batch_size,shuffle=True)\n",
    "        model = Model()\n",
    "        if optimiser_name ==\"SGD\":\n",
    "            optimiser = optimiser_class(model.parameters(),lr=lr,weight_decay=weight_decay,momentum=momentum)\n",
    "        else:\n",
    "            optimiser = optimiser_class(model.parameters(),lr=lr,weight_decay=weight_decay)\n",
    "        fold_val_dataset = ModelDataset(fold_val_df,class_samples={0:1,1:1},loading_bar=False,caching=True)\n",
    "        fold_val_loader = DataLoader(fold_val_dataset,batch_size=batch_size)\n",
    "        model,score = trainModel(model,fold_train_loader,optimiser,device=device,num_epochs=20,val_loader=fold_val_loader,patience=5)\n",
    "        scores.append(score)\n",
    "        print(f\"ROC_AUC = {score}\")\n",
    "        \n",
    "        trial.report(float(score),step=len(scores))\n",
    "        if trial.should_prune():\n",
    "            raise optuna.TrialPruned()\n",
    " \n",
    "        \n",
    "    avg_score = sum(scores)/len(scores)\n",
    "    print(avg_score)\n",
    "    return avg_score"
   ]
  },
  {
   "cell_type": "code",
   "execution_count": 6,
   "id": "b4c32f19-94ab-49d0-bb8c-ca98250ffdf4",
   "metadata": {},
   "outputs": [
    {
     "name": "stderr",
     "output_type": "stream",
     "text": [
      "C:\\Users\\USER\\AppData\\Local\\Temp\\ipykernel_3220\\2317316032.py:6: ExperimentalWarning: RetryFailedTrialCallback is experimental (supported from v2.8.0). The interface can change in the future.\n",
      "  failed_trial_callback=RetryFailedTrialCallback(max_retry=3)\n"
     ]
    },
    {
     "name": "stdout",
     "output_type": "stream",
     "text": [
      "Using an existing study with name 'SRP_Model_Study' instead of creating a new one.\n"
     ]
    }
   ],
   "source": [
    "with open(\"Code/url.txt\",\"r\") as f:\n",
    "    url = f.read()\n",
    "\n",
    "storage = RDBStorage(\n",
    "    url=url,\n",
    "    failed_trial_callback=RetryFailedTrialCallback(max_retry=3)\n",
    ")\n",
    "\n",
    "pruner = optuna.pruners.MedianPruner(n_startup_trials=5,n_warmup_steps=2,)\n",
    "\n",
    "optuna_logger = optuna.logging.get_logger(\"optuna\")\n",
    "\n",
    "# Remove all handlers\n",
    "for handler in optuna_logger.handlers[:]:  # make a copy of the list\n",
    "    optuna_logger.removeHandler(handler)\n",
    "\n",
    "optuna.logging.get_logger(\"optuna\").addHandler(logging.StreamHandler(sys.stdout))\n",
    "\n",
    "study = optuna.create_study(\n",
    "    storage=storage,\n",
    "    pruner=pruner,\n",
    "    study_name=\"SRP_Model_Study\",\n",
    "    load_if_exists=True,\n",
    "    direction=\"maximize\")"
   ]
  },
  {
   "cell_type": "code",
   "execution_count": null,
   "id": "81054637",
   "metadata": {},
   "outputs": [
    {
     "data": {
      "application/vnd.jupyter.widget-view+json": {
       "model_id": "d8d945c458604dcc85f973083adce658",
       "version_major": 2,
       "version_minor": 0
      },
      "text/plain": [
       "  0%|          | 0/1 [00:00<?, ?it/s]"
      ]
     },
     "metadata": {},
     "output_type": "display_data"
    },
    {
     "name": "stdout",
     "output_type": "stream",
     "text": [
      "Dataset initialised with 409 entries.\n",
      "Dataset initialised with 31 entries.\n"
     ]
    }
   ],
   "source": [
    "study.optimize(objective,n_trials=1,show_progress_bar=True)\n",
    "\n",
    "\n",
    "\n",
    "\n",
    "if os.path.exists(backup_path):\n",
    "    os.remove(backup_path)\n",
    "    \n",
    "try:\n",
    "    optuna.copy_study(\n",
    "        from_study_name=\"SRP_Model_Study\",\n",
    "        from_storage=storage,\n",
    "        to_storage=f\"sqlite:///{backup_path}\"\n",
    "    )\n",
    "except PermissionError:\n",
    "    print(\"PermissionError: deleting reference to study\")\n",
    "    for var in list(globals()):\n",
    "        if isinstance(globals()[var], optuna.study.Study):\n",
    "            s = globals()[var]\n",
    "            # only delete if the study is backed by SQLite (not your Aiven storage)\n",
    "            if isinstance(s._storage, optuna.storages.RDBStorage) and \\\n",
    "            str(s._storage.url).startswith(\"sqlite:///\"):\n",
    "                del globals()[var]\n",
    "    gc.collect()\n",
    "    optuna.copy_study(\n",
    "        from_study_name=\"SRP_Model_Study\",\n",
    "        from_storage=storage,\n",
    "        to_storage=f\"sqlite:///{backup_path}\"\n",
    "    )"
   ]
  },
  {
   "cell_type": "code",
   "execution_count": 10,
   "id": "4dfa88aa",
   "metadata": {},
   "outputs": [
    {
     "name": "stdout",
     "output_type": "stream",
     "text": [
      "A new study created in RDB with name: SRP_Model_Study\n"
     ]
    },
    {
     "name": "stderr",
     "output_type": "stream",
     "text": [
      "[I 2025-08-18 22:32:00,497] A new study created in RDB with name: SRP_Model_Study\n"
     ]
    }
   ],
   "source": [
    "if os.path.exists(backup_path):\n",
    "    os.remove(backup_path)\n",
    "\n",
    "optuna.copy_study(\n",
    "    from_study_name=\"SRP_Model_Study\",\n",
    "    from_storage=storage,\n",
    "    to_storage=f\"sqlite:///{backup_path}\"\n",
    ")"
   ]
  },
  {
   "cell_type": "markdown",
   "id": "84f617ad",
   "metadata": {},
   "source": [
    "### Free up backup study"
   ]
  },
  {
   "cell_type": "code",
   "execution_count": 14,
   "id": "44f40d83",
   "metadata": {},
   "outputs": [
    {
     "data": {
      "text/plain": [
       "9857"
      ]
     },
     "execution_count": 14,
     "metadata": {},
     "output_type": "execute_result"
    }
   ],
   "source": [
    "for var in list(globals()):\n",
    "    if isinstance(globals()[var], optuna.study.Study):\n",
    "        s = globals()[var]\n",
    "        # only delete if the study is backed by SQLite (not your Aiven storage)\n",
    "        if isinstance(s._storage, optuna.storages.RDBStorage) and \\\n",
    "           str(s._storage.url).startswith(\"sqlite:///\"):\n",
    "            del globals()[var]\n",
    "\n",
    "gc.collect()\n"
   ]
  },
  {
   "cell_type": "code",
   "execution_count": null,
   "id": "89dfacb8-5aac-4057-8319-16cf0bc7123f",
   "metadata": {},
   "outputs": [],
   "source": [
    "def retry_failed_trials(study: optuna.Study, objective_func):\n",
    "    failed_trials = [t for t in study.trials if t.state == optuna.trial.TrialState.FAIL]\n",
    "    print(f\"Found {len(failed_trials)} failed trials. Retrying...\")\n",
    "\n",
    "    for trial in failed_trials:\n",
    "        print(f\"Retrying trial #{trial.number} with params {trial.params}\")\n",
    "\n",
    "        def fixed_objective(trial_):\n",
    "            trial_.set_user_attr(\"original_trial_number\", trial.number)\n",
    "            for key, value in trial.params.items():\n",
    "                if isinstance(value, float):\n",
    "                    trial_.suggest_float(key, value, value)  # no log param here\n",
    "                elif isinstance(value, int):\n",
    "                    trial_.suggest_int(key, value, value)\n",
    "                else:\n",
    "                    trial_.suggest_categorical(key, [value])\n",
    "            return objective_func(trial_)\n",
    "\n",
    "        study.optimize(fixed_objective, n_trials=1)\n",
    "\n",
    "    print(\"Retried all failed trials.\")\n"
   ]
  },
  {
   "cell_type": "code",
   "execution_count": null,
   "id": "5a79b67a-c379-41db-96a6-517aef55efb3",
   "metadata": {},
   "outputs": [],
   "source": [
    "retry_failed_trials(study,objective)"
   ]
  },
  {
   "cell_type": "markdown",
   "id": "59c92733",
   "metadata": {},
   "source": [
    "## Delete study"
   ]
  },
  {
   "cell_type": "code",
   "execution_count": 19,
   "id": "3daa0e0f",
   "metadata": {},
   "outputs": [],
   "source": [
    "if input(\"Confirm delete? [y/n]\") == \"y\":\n",
    "    optuna.delete_study(study_name=\"SRP_Model_Study\",storage=storage)"
   ]
  }
 ],
 "metadata": {
  "kernelspec": {
   "display_name": "Python 3 (ipykernel)",
   "language": "python",
   "name": "python3"
  },
  "language_info": {
   "codemirror_mode": {
    "name": "ipython",
    "version": 3
   },
   "file_extension": ".py",
   "mimetype": "text/x-python",
   "name": "python",
   "nbconvert_exporter": "python",
   "pygments_lexer": "ipython3",
   "version": "3.13.5"
  }
 },
 "nbformat": 4,
 "nbformat_minor": 5
}
