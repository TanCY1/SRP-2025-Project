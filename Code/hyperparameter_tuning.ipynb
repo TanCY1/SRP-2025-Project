{
 "cells": [
  {
   "cell_type": "code",
   "execution_count": 27,
   "id": "f871af03-5ad4-4807-bd7a-515ce75391fb",
   "metadata": {},
   "outputs": [
    {
     "name": "stdout",
     "output_type": "stream",
     "text": [
      "E:\\SRP\n"
     ]
    }
   ],
   "source": [
    "%cd E:\\SRP\n",
    "import os,sys\n",
    "notebook_dir = os.getcwd()\n",
    "path = os.path.abspath(os.path.join(notebook_dir, \"Code\"))\n",
    "sys.path.append(path)\n",
    "import optuna\n",
    "from sklearn.model_selection import StratifiedKFold\n",
    "from sklearn.metrics import roc_auc_score,roc_curve,classification_report\n",
    "from generateSplits import generateSplits\n",
    "import pandas as pd\n",
    "from trainModel import trainModel\n",
    "from Dataset import ModelDataset\n",
    "from model import Model\n",
    "from torch.utils.data import DataLoader\n",
    "import torch\n",
    "import matplotlib.pyplot as plt\n",
    "from optuna.storages import RDBStorage,RetryFailedTrialCallback\n",
    "import logging\n",
    "import gc"
   ]
  },
  {
   "cell_type": "code",
   "execution_count": 12,
   "id": "f0cc27f1-af7f-4564-9730-c1c94f2a04fe",
   "metadata": {},
   "outputs": [],
   "source": [
    "device = torch.device(\"cuda\") if torch.cuda.is_available else torch.device(\"cpu\")\n",
    "\n",
    "metadata = pd.read_csv(\"Datasets/BreastDCEDL_spy1/BreastDCEDL_spy1_metadata.csv\")\n",
    "train_df,val_df = generateSplits(metadata,0.2,seed=42)\n",
    "train_df = train_df[[\"pid\",\"pCR\",\"ER\",\"PR\",\"HER2\"]].set_index(\"pid\",drop=True)\n",
    "val_df = val_df[[\"pid\",\"pCR\",\"ER\",\"PR\",\"HER2\"]].set_index(\"pid\",drop=True)\n",
    "skf = StratifiedKFold(n_splits=4,shuffle=True,random_state=42)\n",
    "backup_path = \"study_backup.db\""
   ]
  },
  {
   "cell_type": "code",
   "execution_count": 4,
   "id": "5010e72b-842e-49bb-9ebb-441e7381ec6a",
   "metadata": {},
   "outputs": [],
   "source": [
    "def evaluate(model:torch.nn.Module,val_loader:torch.utils.data.DataLoader):\n",
    "    model.eval()\n",
    "    model.to(device)\n",
    "    \n",
    "    y_score = []\n",
    "    y_true = []\n",
    "    y_pred = []\n",
    "    with torch.no_grad():\n",
    "        for images,mols,labels in val_loader:\n",
    "            images = images.to(device)\n",
    "            mols = mols.to(device)\n",
    "            logits = model(images,mols)\n",
    "            scores = torch.nn.functional.softmax(logits,dim=1)[:,1]\n",
    "            y_score.extend(scores.cpu().numpy())\n",
    "            y_true.extend(labels.cpu().numpy())\n",
    "    \n",
    "    return roc_auc_score(y_true,y_score)\n",
    "  "
   ]
  },
  {
   "cell_type": "code",
   "execution_count": 5,
   "id": "9b731bba-a45d-4ec7-b67a-86cddb59f1be",
   "metadata": {},
   "outputs": [],
   "source": [
    "def objective(trial:optuna.Trial):\n",
    "    optimisers = {\"Adam\":torch.optim.Adam,\"SGD\":torch.optim.SGD,\"AdamW\":torch.optim.AdamW}\n",
    "    lr = trial.suggest_float(\"lr\",1e-5,1e-3,log=True)\n",
    "    weight_decay = trial.suggest_categorical(\"weight_decay\", [0.1, 0.01, 0.001, 0.0001])\n",
    "    batch_size = trial.suggest_categorical(\"batch_size\",[4,8,16,32,64])\n",
    "    optimiser_name = trial.suggest_categorical(\"optimiser_name\", [\"Adam\", \"SGD\",\"AdamW\"])\n",
    "    optimiser_class = optimisers[optimiser_name]\n",
    "    \n",
    "    scores = []\n",
    "    \n",
    "    for train_index,val_index in skf.split(train_df, train_df[\"pCR\"]):\n",
    "        fold_train_df = train_df.iloc[train_index]\n",
    "        fold_val_df = train_df.iloc[val_index]\n",
    "        fold_train_dataset = ModelDataset(fold_train_df,class_samples={0:3,1:8},loading_bar=False)\n",
    "        fold_train_loader = DataLoader(fold_train_dataset,batch_size=batch_size,shuffle=True)\n",
    "        model = Model()\n",
    "        optimiser = optimiser_class(model.parameters(),lr=lr,weight_decay=weight_decay)\n",
    "        fold_val_dataset = ModelDataset(fold_val_df,class_samples={0:1,1:1},loading_bar=False)\n",
    "        fold_val_loader = DataLoader(fold_val_dataset,batch_size=batch_size)\n",
    "        model,score = trainModel(model,fold_train_loader,optimiser,device=device,num_epochs=20,val_loader=fold_val_loader,patience=5)\n",
    "        scores.append(score)\n",
    "        print(f\"ROC_AUC = {score}\")\n",
    "        \n",
    "        trial.report(float(score),step=len(scores))\n",
    "        if trial.should_prune():\n",
    "            raise optuna.TrialPruned()\n",
    " \n",
    "        \n",
    "    avg_score = sum(scores)/len(scores)\n",
    "    print(avg_score)\n",
    "    return avg_score"
   ]
  },
  {
   "cell_type": "code",
   "execution_count": 7,
   "id": "b4c32f19-94ab-49d0-bb8c-ca98250ffdf4",
   "metadata": {},
   "outputs": [
    {
     "name": "stderr",
     "output_type": "stream",
     "text": [
      "C:\\Users\\USER\\AppData\\Local\\Temp\\ipykernel_11064\\67522784.py:6: ExperimentalWarning: RetryFailedTrialCallback is experimental (supported from v2.8.0). The interface can change in the future.\n",
      "  failed_trial_callback=RetryFailedTrialCallback(max_retry=3)\n",
      "[I 2025-08-16 23:33:23,803] A new study created in RDB with name: SRP_Model_Study\n"
     ]
    },
    {
     "name": "stdout",
     "output_type": "stream",
     "text": [
      "A new study created in RDB with name: SRP_Model_Study\n"
     ]
    }
   ],
   "source": [
    "with open(\"Code/url.txt\",\"r\") as f:\n",
    "    url = f.read()\n",
    "\n",
    "storage = RDBStorage(\n",
    "    url=url,\n",
    "    failed_trial_callback=RetryFailedTrialCallback(max_retry=3)\n",
    ")\n",
    "\n",
    "pruner = optuna.pruners.MedianPruner(n_startup_trials=5,n_warmup_steps=2,)\n",
    "\n",
    "optuna.logging.get_logger(\"optuna\").addHandler(logging.StreamHandler(sys.stdout))\n",
    "\n",
    "study = optuna.create_study(\n",
    "    storage=storage,\n",
    "    pruner=pruner,\n",
    "    study_name=\"SRP_Model_Study\",\n",
    "    load_if_exists=True,\n",
    "    direction=\"maximize\")"
   ]
  },
  {
   "cell_type": "code",
   "execution_count": null,
   "id": "81054637",
   "metadata": {},
   "outputs": [
    {
     "data": {
      "application/vnd.jupyter.widget-view+json": {
       "model_id": "63004edcb6484d118984ac2efe7de73d",
       "version_major": 2,
       "version_minor": 0
      },
      "text/plain": [
       "  0%|          | 0/1 [00:00<?, ?it/s]"
      ]
     },
     "metadata": {},
     "output_type": "display_data"
    },
    {
     "name": "stdout",
     "output_type": "stream",
     "text": [
      "Dataset initialised with 409 entries.\n",
      "Dataset initialised with 31 entries.\n",
      "Epoch 0 Done. Avg Loss: 1.7968\n",
      "Epoch 1 Done. Avg Loss: 0.5433\n",
      "Epoch 2 Done. Avg Loss: 0.4174\n",
      "Epoch 3 Done. Avg Loss: 0.2817\n",
      "Epoch 4 Done. Avg Loss: 0.1302\n",
      "Epoch 5 Done. Avg Loss: 0.0813\n",
      "Epoch 6 Done. Avg Loss: 0.0699\n",
      "Epoch 7 Done. Avg Loss: 0.0429\n",
      "Early stopping triggered at epoch 7 (best AUC: 0.5978).\n",
      "ROC_AUC = 0.5978260869565217\n",
      "Dataset initialised with 409 entries.\n",
      "Dataset initialised with 31 entries.\n",
      "Epoch 0 Done. Avg Loss: 1.1548\n",
      "Epoch 1 Done. Avg Loss: 0.5221\n",
      "Epoch 2 Done. Avg Loss: 0.3890\n",
      "Epoch 3 Done. Avg Loss: 0.2401\n",
      "Epoch 4 Done. Avg Loss: 0.1051\n",
      "Epoch 5 Done. Avg Loss: 0.0736\n",
      "Epoch 6 Done. Avg Loss: 0.0548\n",
      "Epoch 7 Done. Avg Loss: 0.0423\n",
      "Epoch 8 Done. Avg Loss: 0.0579\n",
      "Epoch 9 Done. Avg Loss: 0.0474\n",
      "Epoch 10 Done. Avg Loss: 0.0252\n",
      "Epoch 11 Done. Avg Loss: 0.0187\n",
      "Epoch 12 Done. Avg Loss: 0.0523\n",
      "Early stopping triggered at epoch 12 (best AUC: 0.5109).\n",
      "ROC_AUC = 0.5108695652173912\n",
      "Dataset initialised with 404 entries.\n",
      "Dataset initialised with 31 entries.\n",
      "Epoch 0 Done. Avg Loss: 1.4781\n",
      "Epoch 1 Done. Avg Loss: 0.5079\n",
      "Epoch 2 Done. Avg Loss: 0.3409\n",
      "Epoch 3 Done. Avg Loss: 0.2785\n",
      "Epoch 4 Done. Avg Loss: 0.1359\n",
      "Epoch 5 Done. Avg Loss: 0.0853\n",
      "Epoch 6 Done. Avg Loss: 0.0584\n",
      "Epoch 7 Done. Avg Loss: 0.0755\n",
      "Epoch 8 Done. Avg Loss: 0.0316\n",
      "Epoch 9 Done. Avg Loss: 0.0311\n",
      "Early stopping triggered at epoch 9 (best AUC: 0.5303).\n",
      "ROC_AUC = 0.5303030303030303\n",
      "Dataset initialised with 404 entries.\n",
      "Dataset initialised with 31 entries.\n",
      "Epoch 0 Done. Avg Loss: 1.2017\n",
      "Epoch 1 Done. Avg Loss: 0.6829\n",
      "Epoch 2 Done. Avg Loss: 0.5849\n",
      "Epoch 3 Done. Avg Loss: 0.4852\n",
      "Epoch 4 Done. Avg Loss: 0.3669\n",
      "Epoch 5 Done. Avg Loss: 0.2128\n",
      "Epoch 6 Done. Avg Loss: 0.1416\n",
      "Epoch 7 Done. Avg Loss: 0.0549\n",
      "Epoch 8 Done. Avg Loss: 0.0314\n",
      "Epoch 9 Done. Avg Loss: 0.0502\n",
      "Early stopping triggered at epoch 9 (best AUC: 0.5909).\n",
      "ROC_AUC = 0.5909090909090909\n",
      "0.5574769433465085\n",
      "Trial 0 finished with value: 0.5574769433465085 and parameters: {'lr': 0.0003072912618670102, 'weight_decay': 0.1, 'batch_size': 4, 'optimiser_name': 'AdamW'}. Best is trial 0 with value: 0.5574769433465085.\n",
      "[I 2025-08-17 00:34:12,478] Trial 0 finished with value: 0.5574769433465085 and parameters: {'lr': 0.0003072912618670102, 'weight_decay': 0.1, 'batch_size': 4, 'optimiser_name': 'AdamW'}. Best is trial 0 with value: 0.5574769433465085.\n"
     ]
    }
   ],
   "source": [
    "study.optimize(objective,n_trials=1,show_progress_bar=True)\n",
    "\n",
    "if os.path.exists(backup_path):\n",
    "    os.remove(backup_path)\n",
    "\n",
    "optuna.copy_study(\n",
    "    from_study_name=\"SRP_Model_Study\",\n",
    "    from_storage=storage,\n",
    "    to_storage=f\"sqlite:///{backup_path}\"\n",
    ")"
   ]
  },
  {
   "cell_type": "code",
   "execution_count": 34,
   "id": "4dfa88aa",
   "metadata": {},
   "outputs": [
    {
     "name": "stdout",
     "output_type": "stream",
     "text": [
      "A new study created in RDB with name: SRP_Model_Study\n"
     ]
    },
    {
     "name": "stderr",
     "output_type": "stream",
     "text": [
      "[I 2025-08-17 00:48:46,525] A new study created in RDB with name: SRP_Model_Study\n"
     ]
    }
   ],
   "source": [
    "if os.path.exists(backup_path):\n",
    "    os.remove(backup_path)\n",
    "\n",
    "optuna.copy_study(\n",
    "    from_study_name=\"SRP_Model_Study\",\n",
    "    from_storage=storage,\n",
    "    to_storage=f\"sqlite:///{backup_path}\"\n",
    ")"
   ]
  },
  {
   "cell_type": "markdown",
   "id": "84f617ad",
   "metadata": {},
   "source": [
    "### Free up studies"
   ]
  },
  {
   "cell_type": "code",
   "execution_count": 33,
   "id": "44f40d83",
   "metadata": {},
   "outputs": [
    {
     "data": {
      "text/plain": [
       "10401"
      ]
     },
     "execution_count": 33,
     "metadata": {},
     "output_type": "execute_result"
    }
   ],
   "source": [
    "for var in list(globals()):\n",
    "    if isinstance(globals()[var], optuna.study.Study):\n",
    "        del globals()[var]\n",
    "\n",
    "gc.collect()"
   ]
  },
  {
   "cell_type": "code",
   "execution_count": null,
   "id": "89dfacb8-5aac-4057-8319-16cf0bc7123f",
   "metadata": {},
   "outputs": [],
   "source": [
    "def retry_failed_trials(study: optuna.Study, objective_func):\n",
    "    failed_trials = [t for t in study.trials if t.state == optuna.trial.TrialState.FAIL]\n",
    "    print(f\"Found {len(failed_trials)} failed trials. Retrying...\")\n",
    "\n",
    "    for trial in failed_trials:\n",
    "        print(f\"Retrying trial #{trial.number} with params {trial.params}\")\n",
    "\n",
    "        def fixed_objective(trial_):\n",
    "            trial_.set_user_attr(\"original_trial_number\", trial.number)\n",
    "            for key, value in trial.params.items():\n",
    "                if isinstance(value, float):\n",
    "                    trial_.suggest_float(key, value, value)  # no log param here\n",
    "                elif isinstance(value, int):\n",
    "                    trial_.suggest_int(key, value, value)\n",
    "                else:\n",
    "                    trial_.suggest_categorical(key, [value])\n",
    "            return objective_func(trial_)\n",
    "\n",
    "        study.optimize(fixed_objective, n_trials=1)\n",
    "\n",
    "    print(\"Retried all failed trials.\")\n"
   ]
  },
  {
   "cell_type": "code",
   "execution_count": null,
   "id": "5a79b67a-c379-41db-96a6-517aef55efb3",
   "metadata": {},
   "outputs": [
    {
     "name": "stdout",
     "output_type": "stream",
     "text": [
      "Found 5 failed trials. Retrying...\n",
      "Retrying trial #0 with params {'lr': 2.2604443080058902e-05, 'weight_decay': 0.0001, 'batch_size': 8, 'optimiser_name': 'Adam'}\n"
     ]
    },
    {
     "name": "stderr",
     "output_type": "stream",
     "text": [
      "E:\\SRP\\Code\\env\\Lib\\site-packages\\optuna\\trial\\_trial.py:676: RuntimeWarning: Inconsistent parameter values for distribution with name \"lr\"! This might be a configuration mistake. Optuna allows to call the same distribution with the same name more than once in a trial. When the parameter values are inconsistent optuna only uses the values of the first call and ignores all following. Using these values: {'step': None, 'low': 2.2604443080058902e-05, 'high': 2.2604443080058902e-05, 'log': True}\n",
      "  warnings.warn(\n",
      "100%|███████████████████████████████████████████████████████████████████████| 93/93 [00:06<00:00, 13.53it/s]\n"
     ]
    },
    {
     "name": "stdout",
     "output_type": "stream",
     "text": [
      "Dataset initialised with 409 entries.\n",
      "Epoch 0 Done. Avg Loss: 0.7136\n",
      "Epoch 1 Done. Avg Loss: 0.7070\n"
     ]
    },
    {
     "name": "stderr",
     "output_type": "stream",
     "text": [
      "100%|███████████████████████████████████████████████████████████████████████| 31/31 [00:00<00:00, 68.27it/s]\n"
     ]
    },
    {
     "name": "stdout",
     "output_type": "stream",
     "text": [
      "Dataset initialised with 31 entries.\n"
     ]
    },
    {
     "name": "stderr",
     "output_type": "stream",
     "text": [
      "100%|███████████████████████████████████████████████████████████████████████| 93/93 [00:07<00:00, 13.17it/s]\n"
     ]
    },
    {
     "name": "stdout",
     "output_type": "stream",
     "text": [
      "Dataset initialised with 409 entries.\n",
      "Epoch 0 Done. Avg Loss: 0.7712\n",
      "Epoch 1 Done. Avg Loss: 0.7348\n"
     ]
    },
    {
     "name": "stderr",
     "output_type": "stream",
     "text": [
      "100%|███████████████████████████████████████████████████████████████████████| 31/31 [00:00<00:00, 75.91it/s]\n"
     ]
    },
    {
     "name": "stdout",
     "output_type": "stream",
     "text": [
      "Dataset initialised with 31 entries.\n"
     ]
    },
    {
     "name": "stderr",
     "output_type": "stream",
     "text": [
      "100%|███████████████████████████████████████████████████████████████████████| 93/93 [00:06<00:00, 13.46it/s]\n"
     ]
    },
    {
     "name": "stdout",
     "output_type": "stream",
     "text": [
      "Dataset initialised with 404 entries.\n",
      "Epoch 0 Done. Avg Loss: 0.7040\n",
      "Epoch 1 Done. Avg Loss: 0.7089\n"
     ]
    },
    {
     "name": "stderr",
     "output_type": "stream",
     "text": [
      "100%|███████████████████████████████████████████████████████████████████████| 31/31 [00:00<00:00, 69.90it/s]\n"
     ]
    },
    {
     "name": "stdout",
     "output_type": "stream",
     "text": [
      "Dataset initialised with 31 entries.\n"
     ]
    },
    {
     "name": "stderr",
     "output_type": "stream",
     "text": [
      "100%|███████████████████████████████████████████████████████████████████████| 93/93 [00:07<00:00, 13.27it/s]\n"
     ]
    },
    {
     "name": "stdout",
     "output_type": "stream",
     "text": [
      "Dataset initialised with 404 entries.\n",
      "Epoch 0 Done. Avg Loss: 0.7053\n",
      "Epoch 1 Done. Avg Loss: 0.7089\n"
     ]
    },
    {
     "name": "stderr",
     "output_type": "stream",
     "text": [
      "100%|███████████████████████████████████████████████████████████████████████| 31/31 [00:00<00:00, 71.75it/s]\n"
     ]
    },
    {
     "name": "stdout",
     "output_type": "stream",
     "text": [
      "Dataset initialised with 31 entries.\n"
     ]
    },
    {
     "name": "stderr",
     "output_type": "stream",
     "text": [
      "[I 2025-08-08 18:10:43,848] Trial 15 finished with value: 0.4547650417215635 and parameters: {'lr': 2.2604443080058902e-05, 'weight_decay': 0.1, 'batch_size': 16, 'optimiser_name': 'SGD'}. Best is trial 3 with value: 0.5290129556433903.\n"
     ]
    },
    {
     "name": "stdout",
     "output_type": "stream",
     "text": [
      "0.4547650417215635\n",
      "Retrying trial #11 with params {}\n"
     ]
    },
    {
     "name": "stderr",
     "output_type": "stream",
     "text": [
      "100%|███████████████████████████████████████████████████████████████████████| 93/93 [00:07<00:00, 12.86it/s]\n"
     ]
    },
    {
     "name": "stdout",
     "output_type": "stream",
     "text": [
      "Dataset initialised with 409 entries.\n",
      "Epoch 0 Done. Avg Loss: 0.7279\n"
     ]
    },
    {
     "name": "stderr",
     "output_type": "stream",
     "text": [
      "[W 2025-08-08 18:12:11,344] Trial 16 failed with parameters: {'lr': 0.00030469073234648785, 'weight_decay': 0.01, 'batch_size': 16, 'optimiser_name': 'SGD'} because of the following error: KeyboardInterrupt().\n",
      "Traceback (most recent call last):\n",
      "  File \"E:\\SRP\\Code\\env\\Lib\\site-packages\\optuna\\study\\_optimize.py\", line 196, in _run_trial\n",
      "    value_or_values = func(trial)\n",
      "  File \"C:\\Users\\USER\\AppData\\Local\\Temp\\ipykernel_19764\\139076021.py\", line 22, in fixed_objective\n",
      "    return objective_func(trial_)\n",
      "  File \"C:\\Users\\USER\\AppData\\Local\\Temp\\ipykernel_19764\\3261892532.py\", line 18, in objective\n",
      "    model = trainModel(model,fold_train_loader,optimiser,device=device,num_epochs=2)\n",
      "  File \"E:\\SRP\\Code\\trainModel.py\", line 26, in trainModel\n",
      "    optimiser.step()\n",
      "    ~~~~~~~~~~~~~~^^\n",
      "  File \"E:\\SRP\\Code\\env\\Lib\\site-packages\\torch\\optim\\optimizer.py\", line 485, in wrapper\n",
      "    out = func(*args, **kwargs)\n",
      "  File \"E:\\SRP\\Code\\env\\Lib\\site-packages\\torch\\optim\\optimizer.py\", line 79, in _use_grad\n",
      "    ret = func(self, *args, **kwargs)\n",
      "  File \"E:\\SRP\\Code\\env\\Lib\\site-packages\\torch\\optim\\sgd.py\", line 125, in step\n",
      "    sgd(\n",
      "    ~~~^\n",
      "        params,\n",
      "        ^^^^^^^\n",
      "    ...<12 lines>...\n",
      "        found_inf=getattr(self, \"found_inf\", None),\n",
      "        ^^^^^^^^^^^^^^^^^^^^^^^^^^^^^^^^^^^^^^^^^^^\n",
      "    )\n",
      "    ^\n",
      "  File \"E:\\SRP\\Code\\env\\Lib\\site-packages\\torch\\optim\\sgd.py\", line 300, in sgd\n",
      "    func(\n",
      "    ~~~~^\n",
      "        params,\n",
      "        ^^^^^^^\n",
      "    ...<10 lines>...\n",
      "        found_inf=found_inf,\n",
      "        ^^^^^^^^^^^^^^^^^^^^\n",
      "    )\n",
      "    ^\n",
      "  File \"E:\\SRP\\Code\\env\\Lib\\site-packages\\torch\\optim\\sgd.py\", line 457, in _multi_tensor_sgd\n",
      "    torch._foreach_add_(device_params, device_grads, alpha=-lr)\n",
      "    ~~~~~~~~~~~~~~~~~~~^^^^^^^^^^^^^^^^^^^^^^^^^^^^^^^^^^^^^^^^\n",
      "KeyboardInterrupt\n",
      "[W 2025-08-08 18:12:11,367] Trial 16 failed with value None.\n"
     ]
    },
    {
     "ename": "KeyboardInterrupt",
     "evalue": "",
     "output_type": "error",
     "traceback": [
      "\u001b[31m---------------------------------------------------------------------------\u001b[39m",
      "\u001b[31mKeyboardInterrupt\u001b[39m                         Traceback (most recent call last)",
      "\u001b[36mCell\u001b[39m\u001b[36m \u001b[39m\u001b[32mIn[17]\u001b[39m\u001b[32m, line 1\u001b[39m\n\u001b[32m----> \u001b[39m\u001b[32m1\u001b[39m \u001b[43mretry_failed_trials\u001b[49m\u001b[43m(\u001b[49m\u001b[43mstudy\u001b[49m\u001b[43m,\u001b[49m\u001b[43mobjective\u001b[49m\u001b[43m)\u001b[49m\n",
      "\u001b[36mCell\u001b[39m\u001b[36m \u001b[39m\u001b[32mIn[16]\u001b[39m\u001b[32m, line 24\u001b[39m, in \u001b[36mretry_failed_trials\u001b[39m\u001b[34m(study, objective_func)\u001b[39m\n\u001b[32m     21\u001b[39m                 \u001b[38;5;28;01mraise\u001b[39;00m \u001b[38;5;167;01mValueError\u001b[39;00m(\u001b[33mf\u001b[39m\u001b[33m\"\u001b[39m\u001b[33mUnsupported distribution type: \u001b[39m\u001b[38;5;132;01m{\u001b[39;00m\u001b[38;5;28mtype\u001b[39m(dist)\u001b[38;5;132;01m}\u001b[39;00m\u001b[33m\"\u001b[39m)\n\u001b[32m     22\u001b[39m         \u001b[38;5;28;01mreturn\u001b[39;00m objective_func(trial_)\n\u001b[32m---> \u001b[39m\u001b[32m24\u001b[39m     \u001b[43mstudy\u001b[49m\u001b[43m.\u001b[49m\u001b[43moptimize\u001b[49m\u001b[43m(\u001b[49m\u001b[43mfixed_objective\u001b[49m\u001b[43m,\u001b[49m\u001b[43m \u001b[49m\u001b[43mn_trials\u001b[49m\u001b[43m=\u001b[49m\u001b[32;43m1\u001b[39;49m\u001b[43m)\u001b[49m\n\u001b[32m     26\u001b[39m \u001b[38;5;28mprint\u001b[39m(\u001b[33m\"\u001b[39m\u001b[33mRetried all failed trials.\u001b[39m\u001b[33m\"\u001b[39m)\n",
      "\u001b[36mFile \u001b[39m\u001b[32mE:\\SRP\\Code\\env\\Lib\\site-packages\\optuna\\study\\study.py:451\u001b[39m, in \u001b[36mStudy.optimize\u001b[39m\u001b[34m(self, func, n_trials, timeout, n_jobs, catch, callbacks, gc_after_trial, show_progress_bar)\u001b[39m\n\u001b[32m    348\u001b[39m \u001b[38;5;28;01mdef\u001b[39;00m\u001b[38;5;250m \u001b[39m\u001b[34moptimize\u001b[39m(\n\u001b[32m    349\u001b[39m     \u001b[38;5;28mself\u001b[39m,\n\u001b[32m    350\u001b[39m     func: ObjectiveFuncType,\n\u001b[32m   (...)\u001b[39m\u001b[32m    357\u001b[39m     show_progress_bar: \u001b[38;5;28mbool\u001b[39m = \u001b[38;5;28;01mFalse\u001b[39;00m,\n\u001b[32m    358\u001b[39m ) -> \u001b[38;5;28;01mNone\u001b[39;00m:\n\u001b[32m    359\u001b[39m \u001b[38;5;250m    \u001b[39m\u001b[33;03m\"\"\"Optimize an objective function.\u001b[39;00m\n\u001b[32m    360\u001b[39m \n\u001b[32m    361\u001b[39m \u001b[33;03m    Optimization is done by choosing a suitable set of hyperparameter values from a given\u001b[39;00m\n\u001b[32m   (...)\u001b[39m\u001b[32m    449\u001b[39m \u001b[33;03m            If nested invocation of this method occurs.\u001b[39;00m\n\u001b[32m    450\u001b[39m \u001b[33;03m    \"\"\"\u001b[39;00m\n\u001b[32m--> \u001b[39m\u001b[32m451\u001b[39m     \u001b[43m_optimize\u001b[49m\u001b[43m(\u001b[49m\n\u001b[32m    452\u001b[39m \u001b[43m        \u001b[49m\u001b[43mstudy\u001b[49m\u001b[43m=\u001b[49m\u001b[38;5;28;43mself\u001b[39;49m\u001b[43m,\u001b[49m\n\u001b[32m    453\u001b[39m \u001b[43m        \u001b[49m\u001b[43mfunc\u001b[49m\u001b[43m=\u001b[49m\u001b[43mfunc\u001b[49m\u001b[43m,\u001b[49m\n\u001b[32m    454\u001b[39m \u001b[43m        \u001b[49m\u001b[43mn_trials\u001b[49m\u001b[43m=\u001b[49m\u001b[43mn_trials\u001b[49m\u001b[43m,\u001b[49m\n\u001b[32m    455\u001b[39m \u001b[43m        \u001b[49m\u001b[43mtimeout\u001b[49m\u001b[43m=\u001b[49m\u001b[43mtimeout\u001b[49m\u001b[43m,\u001b[49m\n\u001b[32m    456\u001b[39m \u001b[43m        \u001b[49m\u001b[43mn_jobs\u001b[49m\u001b[43m=\u001b[49m\u001b[43mn_jobs\u001b[49m\u001b[43m,\u001b[49m\n\u001b[32m    457\u001b[39m \u001b[43m        \u001b[49m\u001b[43mcatch\u001b[49m\u001b[43m=\u001b[49m\u001b[38;5;28;43mtuple\u001b[39;49m\u001b[43m(\u001b[49m\u001b[43mcatch\u001b[49m\u001b[43m)\u001b[49m\u001b[43m \u001b[49m\u001b[38;5;28;43;01mif\u001b[39;49;00m\u001b[43m \u001b[49m\u001b[38;5;28;43misinstance\u001b[39;49m\u001b[43m(\u001b[49m\u001b[43mcatch\u001b[49m\u001b[43m,\u001b[49m\u001b[43m \u001b[49m\u001b[43mIterable\u001b[49m\u001b[43m)\u001b[49m\u001b[43m \u001b[49m\u001b[38;5;28;43;01melse\u001b[39;49;00m\u001b[43m \u001b[49m\u001b[43m(\u001b[49m\u001b[43mcatch\u001b[49m\u001b[43m,\u001b[49m\u001b[43m)\u001b[49m\u001b[43m,\u001b[49m\n\u001b[32m    458\u001b[39m \u001b[43m        \u001b[49m\u001b[43mcallbacks\u001b[49m\u001b[43m=\u001b[49m\u001b[43mcallbacks\u001b[49m\u001b[43m,\u001b[49m\n\u001b[32m    459\u001b[39m \u001b[43m        \u001b[49m\u001b[43mgc_after_trial\u001b[49m\u001b[43m=\u001b[49m\u001b[43mgc_after_trial\u001b[49m\u001b[43m,\u001b[49m\n\u001b[32m    460\u001b[39m \u001b[43m        \u001b[49m\u001b[43mshow_progress_bar\u001b[49m\u001b[43m=\u001b[49m\u001b[43mshow_progress_bar\u001b[49m\u001b[43m,\u001b[49m\n\u001b[32m    461\u001b[39m \u001b[43m    \u001b[49m\u001b[43m)\u001b[49m\n",
      "\u001b[36mFile \u001b[39m\u001b[32mE:\\SRP\\Code\\env\\Lib\\site-packages\\optuna\\study\\_optimize.py:62\u001b[39m, in \u001b[36m_optimize\u001b[39m\u001b[34m(study, func, n_trials, timeout, n_jobs, catch, callbacks, gc_after_trial, show_progress_bar)\u001b[39m\n\u001b[32m     60\u001b[39m \u001b[38;5;28;01mtry\u001b[39;00m:\n\u001b[32m     61\u001b[39m     \u001b[38;5;28;01mif\u001b[39;00m n_jobs == \u001b[32m1\u001b[39m:\n\u001b[32m---> \u001b[39m\u001b[32m62\u001b[39m         \u001b[43m_optimize_sequential\u001b[49m\u001b[43m(\u001b[49m\n\u001b[32m     63\u001b[39m \u001b[43m            \u001b[49m\u001b[43mstudy\u001b[49m\u001b[43m,\u001b[49m\n\u001b[32m     64\u001b[39m \u001b[43m            \u001b[49m\u001b[43mfunc\u001b[49m\u001b[43m,\u001b[49m\n\u001b[32m     65\u001b[39m \u001b[43m            \u001b[49m\u001b[43mn_trials\u001b[49m\u001b[43m,\u001b[49m\n\u001b[32m     66\u001b[39m \u001b[43m            \u001b[49m\u001b[43mtimeout\u001b[49m\u001b[43m,\u001b[49m\n\u001b[32m     67\u001b[39m \u001b[43m            \u001b[49m\u001b[43mcatch\u001b[49m\u001b[43m,\u001b[49m\n\u001b[32m     68\u001b[39m \u001b[43m            \u001b[49m\u001b[43mcallbacks\u001b[49m\u001b[43m,\u001b[49m\n\u001b[32m     69\u001b[39m \u001b[43m            \u001b[49m\u001b[43mgc_after_trial\u001b[49m\u001b[43m,\u001b[49m\n\u001b[32m     70\u001b[39m \u001b[43m            \u001b[49m\u001b[43mreseed_sampler_rng\u001b[49m\u001b[43m=\u001b[49m\u001b[38;5;28;43;01mFalse\u001b[39;49;00m\u001b[43m,\u001b[49m\n\u001b[32m     71\u001b[39m \u001b[43m            \u001b[49m\u001b[43mtime_start\u001b[49m\u001b[43m=\u001b[49m\u001b[38;5;28;43;01mNone\u001b[39;49;00m\u001b[43m,\u001b[49m\n\u001b[32m     72\u001b[39m \u001b[43m            \u001b[49m\u001b[43mprogress_bar\u001b[49m\u001b[43m=\u001b[49m\u001b[43mprogress_bar\u001b[49m\u001b[43m,\u001b[49m\n\u001b[32m     73\u001b[39m \u001b[43m        \u001b[49m\u001b[43m)\u001b[49m\n\u001b[32m     74\u001b[39m     \u001b[38;5;28;01melse\u001b[39;00m:\n\u001b[32m     75\u001b[39m         \u001b[38;5;28;01mif\u001b[39;00m n_jobs == -\u001b[32m1\u001b[39m:\n",
      "\u001b[36mFile \u001b[39m\u001b[32mE:\\SRP\\Code\\env\\Lib\\site-packages\\optuna\\study\\_optimize.py:159\u001b[39m, in \u001b[36m_optimize_sequential\u001b[39m\u001b[34m(study, func, n_trials, timeout, catch, callbacks, gc_after_trial, reseed_sampler_rng, time_start, progress_bar)\u001b[39m\n\u001b[32m    156\u001b[39m         \u001b[38;5;28;01mbreak\u001b[39;00m\n\u001b[32m    158\u001b[39m \u001b[38;5;28;01mtry\u001b[39;00m:\n\u001b[32m--> \u001b[39m\u001b[32m159\u001b[39m     frozen_trial = \u001b[43m_run_trial\u001b[49m\u001b[43m(\u001b[49m\u001b[43mstudy\u001b[49m\u001b[43m,\u001b[49m\u001b[43m \u001b[49m\u001b[43mfunc\u001b[49m\u001b[43m,\u001b[49m\u001b[43m \u001b[49m\u001b[43mcatch\u001b[49m\u001b[43m)\u001b[49m\n\u001b[32m    160\u001b[39m \u001b[38;5;28;01mfinally\u001b[39;00m:\n\u001b[32m    161\u001b[39m     \u001b[38;5;66;03m# The following line mitigates memory problems that can be occurred in some\u001b[39;00m\n\u001b[32m    162\u001b[39m     \u001b[38;5;66;03m# environments (e.g., services that use computing containers such as GitHub Actions).\u001b[39;00m\n\u001b[32m    163\u001b[39m     \u001b[38;5;66;03m# Please refer to the following PR for further details:\u001b[39;00m\n\u001b[32m    164\u001b[39m     \u001b[38;5;66;03m# https://github.com/optuna/optuna/pull/325.\u001b[39;00m\n\u001b[32m    165\u001b[39m     \u001b[38;5;28;01mif\u001b[39;00m gc_after_trial:\n",
      "\u001b[36mFile \u001b[39m\u001b[32mE:\\SRP\\Code\\env\\Lib\\site-packages\\optuna\\study\\_optimize.py:247\u001b[39m, in \u001b[36m_run_trial\u001b[39m\u001b[34m(study, func, catch)\u001b[39m\n\u001b[32m    240\u001b[39m         \u001b[38;5;28;01massert\u001b[39;00m \u001b[38;5;28;01mFalse\u001b[39;00m, \u001b[33m\"\u001b[39m\u001b[33mShould not reach.\u001b[39m\u001b[33m\"\u001b[39m\n\u001b[32m    242\u001b[39m \u001b[38;5;28;01mif\u001b[39;00m (\n\u001b[32m    243\u001b[39m     frozen_trial.state == TrialState.FAIL\n\u001b[32m    244\u001b[39m     \u001b[38;5;129;01mand\u001b[39;00m func_err \u001b[38;5;129;01mis\u001b[39;00m \u001b[38;5;129;01mnot\u001b[39;00m \u001b[38;5;28;01mNone\u001b[39;00m\n\u001b[32m    245\u001b[39m     \u001b[38;5;129;01mand\u001b[39;00m \u001b[38;5;129;01mnot\u001b[39;00m \u001b[38;5;28misinstance\u001b[39m(func_err, catch)\n\u001b[32m    246\u001b[39m ):\n\u001b[32m--> \u001b[39m\u001b[32m247\u001b[39m     \u001b[38;5;28;01mraise\u001b[39;00m func_err\n\u001b[32m    248\u001b[39m \u001b[38;5;28;01mreturn\u001b[39;00m frozen_trial\n",
      "\u001b[36mFile \u001b[39m\u001b[32mE:\\SRP\\Code\\env\\Lib\\site-packages\\optuna\\study\\_optimize.py:196\u001b[39m, in \u001b[36m_run_trial\u001b[39m\u001b[34m(study, func, catch)\u001b[39m\n\u001b[32m    194\u001b[39m \u001b[38;5;28;01mwith\u001b[39;00m get_heartbeat_thread(trial._trial_id, study._storage):\n\u001b[32m    195\u001b[39m     \u001b[38;5;28;01mtry\u001b[39;00m:\n\u001b[32m--> \u001b[39m\u001b[32m196\u001b[39m         value_or_values = \u001b[43mfunc\u001b[49m\u001b[43m(\u001b[49m\u001b[43mtrial\u001b[49m\u001b[43m)\u001b[49m\n\u001b[32m    197\u001b[39m     \u001b[38;5;28;01mexcept\u001b[39;00m exceptions.TrialPruned \u001b[38;5;28;01mas\u001b[39;00m e:\n\u001b[32m    198\u001b[39m         \u001b[38;5;66;03m# TODO(mamu): Handle multi-objective cases.\u001b[39;00m\n\u001b[32m    199\u001b[39m         state = TrialState.PRUNED\n",
      "\u001b[36mCell\u001b[39m\u001b[36m \u001b[39m\u001b[32mIn[16]\u001b[39m\u001b[32m, line 22\u001b[39m, in \u001b[36mretry_failed_trials.<locals>.fixed_objective\u001b[39m\u001b[34m(trial_)\u001b[39m\n\u001b[32m     20\u001b[39m     \u001b[38;5;28;01melse\u001b[39;00m:\n\u001b[32m     21\u001b[39m         \u001b[38;5;28;01mraise\u001b[39;00m \u001b[38;5;167;01mValueError\u001b[39;00m(\u001b[33mf\u001b[39m\u001b[33m\"\u001b[39m\u001b[33mUnsupported distribution type: \u001b[39m\u001b[38;5;132;01m{\u001b[39;00m\u001b[38;5;28mtype\u001b[39m(dist)\u001b[38;5;132;01m}\u001b[39;00m\u001b[33m\"\u001b[39m)\n\u001b[32m---> \u001b[39m\u001b[32m22\u001b[39m \u001b[38;5;28;01mreturn\u001b[39;00m \u001b[43mobjective_func\u001b[49m\u001b[43m(\u001b[49m\u001b[43mtrial_\u001b[49m\u001b[43m)\u001b[49m\n",
      "\u001b[36mCell\u001b[39m\u001b[36m \u001b[39m\u001b[32mIn[4]\u001b[39m\u001b[32m, line 18\u001b[39m, in \u001b[36mobjective\u001b[39m\u001b[34m(trial)\u001b[39m\n\u001b[32m     16\u001b[39m model = Model()\n\u001b[32m     17\u001b[39m optimiser = optimiser_class(model.parameters(),lr=lr,weight_decay=weight_decay)\n\u001b[32m---> \u001b[39m\u001b[32m18\u001b[39m model = \u001b[43mtrainModel\u001b[49m\u001b[43m(\u001b[49m\u001b[43mmodel\u001b[49m\u001b[43m,\u001b[49m\u001b[43mfold_train_loader\u001b[49m\u001b[43m,\u001b[49m\u001b[43moptimiser\u001b[49m\u001b[43m,\u001b[49m\u001b[43mdevice\u001b[49m\u001b[43m=\u001b[49m\u001b[43mdevice\u001b[49m\u001b[43m,\u001b[49m\u001b[43mnum_epochs\u001b[49m\u001b[43m=\u001b[49m\u001b[32;43m2\u001b[39;49m\u001b[43m)\u001b[49m\n\u001b[32m     19\u001b[39m fold_val_dataset = ModelDataset(fold_val_df,class_samples={\u001b[32m0\u001b[39m:\u001b[32m1\u001b[39m,\u001b[32m1\u001b[39m:\u001b[32m1\u001b[39m})\n\u001b[32m     20\u001b[39m fold_val_loader = DataLoader(fold_val_dataset,batch_size=batch_size)\n",
      "\u001b[36mFile \u001b[39m\u001b[32mE:\\SRP\\Code\\trainModel.py:26\u001b[39m, in \u001b[36mtrainModel\u001b[39m\u001b[34m(model, train_loader, optimiser, device, num_epochs)\u001b[39m\n\u001b[32m     24\u001b[39m     loss = loss_fn(logits,labels)\n\u001b[32m     25\u001b[39m     loss.backward()\n\u001b[32m---> \u001b[39m\u001b[32m26\u001b[39m     \u001b[43moptimiser\u001b[49m\u001b[43m.\u001b[49m\u001b[43mstep\u001b[49m\u001b[43m(\u001b[49m\u001b[43m)\u001b[49m\n\u001b[32m     27\u001b[39m     running_loss += loss.item()\n\u001b[32m     28\u001b[39m \u001b[38;5;28mprint\u001b[39m(\u001b[33mf\u001b[39m\u001b[33m\"\u001b[39m\u001b[33mEpoch \u001b[39m\u001b[38;5;132;01m{\u001b[39;00mepoch\u001b[38;5;132;01m}\u001b[39;00m\u001b[33m Done. Avg Loss: \u001b[39m\u001b[38;5;132;01m{\u001b[39;00mrunning_loss\u001b[38;5;250m \u001b[39m/\u001b[38;5;250m \u001b[39m\u001b[38;5;28mlen\u001b[39m(train_loader)\u001b[38;5;132;01m:\u001b[39;00m\u001b[33m.4f\u001b[39m\u001b[38;5;132;01m}\u001b[39;00m\u001b[33m\"\u001b[39m)\n",
      "\u001b[36mFile \u001b[39m\u001b[32mE:\\SRP\\Code\\env\\Lib\\site-packages\\torch\\optim\\optimizer.py:485\u001b[39m, in \u001b[36mOptimizer.profile_hook_step.<locals>.wrapper\u001b[39m\u001b[34m(*args, **kwargs)\u001b[39m\n\u001b[32m    480\u001b[39m         \u001b[38;5;28;01melse\u001b[39;00m:\n\u001b[32m    481\u001b[39m             \u001b[38;5;28;01mraise\u001b[39;00m \u001b[38;5;167;01mRuntimeError\u001b[39;00m(\n\u001b[32m    482\u001b[39m                 \u001b[33mf\u001b[39m\u001b[33m\"\u001b[39m\u001b[38;5;132;01m{\u001b[39;00mfunc\u001b[38;5;132;01m}\u001b[39;00m\u001b[33m must return None or a tuple of (new_args, new_kwargs), but got \u001b[39m\u001b[38;5;132;01m{\u001b[39;00mresult\u001b[38;5;132;01m}\u001b[39;00m\u001b[33m.\u001b[39m\u001b[33m\"\u001b[39m\n\u001b[32m    483\u001b[39m             )\n\u001b[32m--> \u001b[39m\u001b[32m485\u001b[39m out = \u001b[43mfunc\u001b[49m\u001b[43m(\u001b[49m\u001b[43m*\u001b[49m\u001b[43margs\u001b[49m\u001b[43m,\u001b[49m\u001b[43m \u001b[49m\u001b[43m*\u001b[49m\u001b[43m*\u001b[49m\u001b[43mkwargs\u001b[49m\u001b[43m)\u001b[49m\n\u001b[32m    486\u001b[39m \u001b[38;5;28mself\u001b[39m._optimizer_step_code()\n\u001b[32m    488\u001b[39m \u001b[38;5;66;03m# call optimizer step post hooks\u001b[39;00m\n",
      "\u001b[36mFile \u001b[39m\u001b[32mE:\\SRP\\Code\\env\\Lib\\site-packages\\torch\\optim\\optimizer.py:79\u001b[39m, in \u001b[36m_use_grad_for_differentiable.<locals>._use_grad\u001b[39m\u001b[34m(self, *args, **kwargs)\u001b[39m\n\u001b[32m     77\u001b[39m     torch.set_grad_enabled(\u001b[38;5;28mself\u001b[39m.defaults[\u001b[33m\"\u001b[39m\u001b[33mdifferentiable\u001b[39m\u001b[33m\"\u001b[39m])\n\u001b[32m     78\u001b[39m     torch._dynamo.graph_break()\n\u001b[32m---> \u001b[39m\u001b[32m79\u001b[39m     ret = \u001b[43mfunc\u001b[49m\u001b[43m(\u001b[49m\u001b[38;5;28;43mself\u001b[39;49m\u001b[43m,\u001b[49m\u001b[43m \u001b[49m\u001b[43m*\u001b[49m\u001b[43margs\u001b[49m\u001b[43m,\u001b[49m\u001b[43m \u001b[49m\u001b[43m*\u001b[49m\u001b[43m*\u001b[49m\u001b[43mkwargs\u001b[49m\u001b[43m)\u001b[49m\n\u001b[32m     80\u001b[39m \u001b[38;5;28;01mfinally\u001b[39;00m:\n\u001b[32m     81\u001b[39m     torch._dynamo.graph_break()\n",
      "\u001b[36mFile \u001b[39m\u001b[32mE:\\SRP\\Code\\env\\Lib\\site-packages\\torch\\optim\\sgd.py:125\u001b[39m, in \u001b[36mSGD.step\u001b[39m\u001b[34m(self, closure)\u001b[39m\n\u001b[32m    119\u001b[39m momentum_buffer_list: \u001b[38;5;28mlist\u001b[39m[Optional[Tensor]] = []\n\u001b[32m    121\u001b[39m has_sparse_grad = \u001b[38;5;28mself\u001b[39m._init_group(\n\u001b[32m    122\u001b[39m     group, params, grads, momentum_buffer_list\n\u001b[32m    123\u001b[39m )\n\u001b[32m--> \u001b[39m\u001b[32m125\u001b[39m \u001b[43msgd\u001b[49m\u001b[43m(\u001b[49m\n\u001b[32m    126\u001b[39m \u001b[43m    \u001b[49m\u001b[43mparams\u001b[49m\u001b[43m,\u001b[49m\n\u001b[32m    127\u001b[39m \u001b[43m    \u001b[49m\u001b[43mgrads\u001b[49m\u001b[43m,\u001b[49m\n\u001b[32m    128\u001b[39m \u001b[43m    \u001b[49m\u001b[43mmomentum_buffer_list\u001b[49m\u001b[43m,\u001b[49m\n\u001b[32m    129\u001b[39m \u001b[43m    \u001b[49m\u001b[43mweight_decay\u001b[49m\u001b[43m=\u001b[49m\u001b[43mgroup\u001b[49m\u001b[43m[\u001b[49m\u001b[33;43m\"\u001b[39;49m\u001b[33;43mweight_decay\u001b[39;49m\u001b[33;43m\"\u001b[39;49m\u001b[43m]\u001b[49m\u001b[43m,\u001b[49m\n\u001b[32m    130\u001b[39m \u001b[43m    \u001b[49m\u001b[43mmomentum\u001b[49m\u001b[43m=\u001b[49m\u001b[43mgroup\u001b[49m\u001b[43m[\u001b[49m\u001b[33;43m\"\u001b[39;49m\u001b[33;43mmomentum\u001b[39;49m\u001b[33;43m\"\u001b[39;49m\u001b[43m]\u001b[49m\u001b[43m,\u001b[49m\n\u001b[32m    131\u001b[39m \u001b[43m    \u001b[49m\u001b[43mlr\u001b[49m\u001b[43m=\u001b[49m\u001b[43mgroup\u001b[49m\u001b[43m[\u001b[49m\u001b[33;43m\"\u001b[39;49m\u001b[33;43mlr\u001b[39;49m\u001b[33;43m\"\u001b[39;49m\u001b[43m]\u001b[49m\u001b[43m,\u001b[49m\n\u001b[32m    132\u001b[39m \u001b[43m    \u001b[49m\u001b[43mdampening\u001b[49m\u001b[43m=\u001b[49m\u001b[43mgroup\u001b[49m\u001b[43m[\u001b[49m\u001b[33;43m\"\u001b[39;49m\u001b[33;43mdampening\u001b[39;49m\u001b[33;43m\"\u001b[39;49m\u001b[43m]\u001b[49m\u001b[43m,\u001b[49m\n\u001b[32m    133\u001b[39m \u001b[43m    \u001b[49m\u001b[43mnesterov\u001b[49m\u001b[43m=\u001b[49m\u001b[43mgroup\u001b[49m\u001b[43m[\u001b[49m\u001b[33;43m\"\u001b[39;49m\u001b[33;43mnesterov\u001b[39;49m\u001b[33;43m\"\u001b[39;49m\u001b[43m]\u001b[49m\u001b[43m,\u001b[49m\n\u001b[32m    134\u001b[39m \u001b[43m    \u001b[49m\u001b[43mmaximize\u001b[49m\u001b[43m=\u001b[49m\u001b[43mgroup\u001b[49m\u001b[43m[\u001b[49m\u001b[33;43m\"\u001b[39;49m\u001b[33;43mmaximize\u001b[39;49m\u001b[33;43m\"\u001b[39;49m\u001b[43m]\u001b[49m\u001b[43m,\u001b[49m\n\u001b[32m    135\u001b[39m \u001b[43m    \u001b[49m\u001b[43mhas_sparse_grad\u001b[49m\u001b[43m=\u001b[49m\u001b[43mhas_sparse_grad\u001b[49m\u001b[43m,\u001b[49m\n\u001b[32m    136\u001b[39m \u001b[43m    \u001b[49m\u001b[43mforeach\u001b[49m\u001b[43m=\u001b[49m\u001b[43mgroup\u001b[49m\u001b[43m[\u001b[49m\u001b[33;43m\"\u001b[39;49m\u001b[33;43mforeach\u001b[39;49m\u001b[33;43m\"\u001b[39;49m\u001b[43m]\u001b[49m\u001b[43m,\u001b[49m\n\u001b[32m    137\u001b[39m \u001b[43m    \u001b[49m\u001b[43mfused\u001b[49m\u001b[43m=\u001b[49m\u001b[43mgroup\u001b[49m\u001b[43m[\u001b[49m\u001b[33;43m\"\u001b[39;49m\u001b[33;43mfused\u001b[39;49m\u001b[33;43m\"\u001b[39;49m\u001b[43m]\u001b[49m\u001b[43m,\u001b[49m\n\u001b[32m    138\u001b[39m \u001b[43m    \u001b[49m\u001b[43mgrad_scale\u001b[49m\u001b[43m=\u001b[49m\u001b[38;5;28;43mgetattr\u001b[39;49m\u001b[43m(\u001b[49m\u001b[38;5;28;43mself\u001b[39;49m\u001b[43m,\u001b[49m\u001b[43m \u001b[49m\u001b[33;43m\"\u001b[39;49m\u001b[33;43mgrad_scale\u001b[39;49m\u001b[33;43m\"\u001b[39;49m\u001b[43m,\u001b[49m\u001b[43m \u001b[49m\u001b[38;5;28;43;01mNone\u001b[39;49;00m\u001b[43m)\u001b[49m\u001b[43m,\u001b[49m\n\u001b[32m    139\u001b[39m \u001b[43m    \u001b[49m\u001b[43mfound_inf\u001b[49m\u001b[43m=\u001b[49m\u001b[38;5;28;43mgetattr\u001b[39;49m\u001b[43m(\u001b[49m\u001b[38;5;28;43mself\u001b[39;49m\u001b[43m,\u001b[49m\u001b[43m \u001b[49m\u001b[33;43m\"\u001b[39;49m\u001b[33;43mfound_inf\u001b[39;49m\u001b[33;43m\"\u001b[39;49m\u001b[43m,\u001b[49m\u001b[43m \u001b[49m\u001b[38;5;28;43;01mNone\u001b[39;49;00m\u001b[43m)\u001b[49m\u001b[43m,\u001b[49m\n\u001b[32m    140\u001b[39m \u001b[43m\u001b[49m\u001b[43m)\u001b[49m\n\u001b[32m    142\u001b[39m \u001b[38;5;28;01mif\u001b[39;00m group[\u001b[33m\"\u001b[39m\u001b[33mmomentum\u001b[39m\u001b[33m\"\u001b[39m] != \u001b[32m0\u001b[39m:\n\u001b[32m    143\u001b[39m     \u001b[38;5;66;03m# update momentum_buffers in state\u001b[39;00m\n\u001b[32m    144\u001b[39m     \u001b[38;5;28;01mfor\u001b[39;00m p, momentum_buffer \u001b[38;5;129;01min\u001b[39;00m \u001b[38;5;28mzip\u001b[39m(params, momentum_buffer_list):\n",
      "\u001b[36mFile \u001b[39m\u001b[32mE:\\SRP\\Code\\env\\Lib\\site-packages\\torch\\optim\\sgd.py:300\u001b[39m, in \u001b[36msgd\u001b[39m\u001b[34m(params, d_p_list, momentum_buffer_list, has_sparse_grad, foreach, fused, grad_scale, found_inf, weight_decay, momentum, lr, dampening, nesterov, maximize)\u001b[39m\n\u001b[32m    297\u001b[39m \u001b[38;5;28;01melse\u001b[39;00m:\n\u001b[32m    298\u001b[39m     func = _single_tensor_sgd\n\u001b[32m--> \u001b[39m\u001b[32m300\u001b[39m \u001b[43mfunc\u001b[49m\u001b[43m(\u001b[49m\n\u001b[32m    301\u001b[39m \u001b[43m    \u001b[49m\u001b[43mparams\u001b[49m\u001b[43m,\u001b[49m\n\u001b[32m    302\u001b[39m \u001b[43m    \u001b[49m\u001b[43md_p_list\u001b[49m\u001b[43m,\u001b[49m\n\u001b[32m    303\u001b[39m \u001b[43m    \u001b[49m\u001b[43mmomentum_buffer_list\u001b[49m\u001b[43m,\u001b[49m\n\u001b[32m    304\u001b[39m \u001b[43m    \u001b[49m\u001b[43mweight_decay\u001b[49m\u001b[43m=\u001b[49m\u001b[43mweight_decay\u001b[49m\u001b[43m,\u001b[49m\n\u001b[32m    305\u001b[39m \u001b[43m    \u001b[49m\u001b[43mmomentum\u001b[49m\u001b[43m=\u001b[49m\u001b[43mmomentum\u001b[49m\u001b[43m,\u001b[49m\n\u001b[32m    306\u001b[39m \u001b[43m    \u001b[49m\u001b[43mlr\u001b[49m\u001b[43m=\u001b[49m\u001b[43mlr\u001b[49m\u001b[43m,\u001b[49m\n\u001b[32m    307\u001b[39m \u001b[43m    \u001b[49m\u001b[43mdampening\u001b[49m\u001b[43m=\u001b[49m\u001b[43mdampening\u001b[49m\u001b[43m,\u001b[49m\n\u001b[32m    308\u001b[39m \u001b[43m    \u001b[49m\u001b[43mnesterov\u001b[49m\u001b[43m=\u001b[49m\u001b[43mnesterov\u001b[49m\u001b[43m,\u001b[49m\n\u001b[32m    309\u001b[39m \u001b[43m    \u001b[49m\u001b[43mhas_sparse_grad\u001b[49m\u001b[43m=\u001b[49m\u001b[43mhas_sparse_grad\u001b[49m\u001b[43m,\u001b[49m\n\u001b[32m    310\u001b[39m \u001b[43m    \u001b[49m\u001b[43mmaximize\u001b[49m\u001b[43m=\u001b[49m\u001b[43mmaximize\u001b[49m\u001b[43m,\u001b[49m\n\u001b[32m    311\u001b[39m \u001b[43m    \u001b[49m\u001b[43mgrad_scale\u001b[49m\u001b[43m=\u001b[49m\u001b[43mgrad_scale\u001b[49m\u001b[43m,\u001b[49m\n\u001b[32m    312\u001b[39m \u001b[43m    \u001b[49m\u001b[43mfound_inf\u001b[49m\u001b[43m=\u001b[49m\u001b[43mfound_inf\u001b[49m\u001b[43m,\u001b[49m\n\u001b[32m    313\u001b[39m \u001b[43m\u001b[49m\u001b[43m)\u001b[49m\n",
      "\u001b[36mFile \u001b[39m\u001b[32mE:\\SRP\\Code\\env\\Lib\\site-packages\\torch\\optim\\sgd.py:457\u001b[39m, in \u001b[36m_multi_tensor_sgd\u001b[39m\u001b[34m(params, grads, momentum_buffer_list, grad_scale, found_inf, weight_decay, momentum, lr, dampening, nesterov, maximize, has_sparse_grad)\u001b[39m\n\u001b[32m    455\u001b[39m         torch._foreach_add_(device_params, grads_x_lr)\n\u001b[32m    456\u001b[39m     \u001b[38;5;28;01melse\u001b[39;00m:\n\u001b[32m--> \u001b[39m\u001b[32m457\u001b[39m         \u001b[43mtorch\u001b[49m\u001b[43m.\u001b[49m\u001b[43m_foreach_add_\u001b[49m\u001b[43m(\u001b[49m\u001b[43mdevice_params\u001b[49m\u001b[43m,\u001b[49m\u001b[43m \u001b[49m\u001b[43mdevice_grads\u001b[49m\u001b[43m,\u001b[49m\u001b[43m \u001b[49m\u001b[43malpha\u001b[49m\u001b[43m=\u001b[49m\u001b[43m-\u001b[49m\u001b[43mlr\u001b[49m\u001b[43m)\u001b[49m\n\u001b[32m    458\u001b[39m \u001b[38;5;28;01melse\u001b[39;00m:\n\u001b[32m    459\u001b[39m     \u001b[38;5;66;03m# foreach APIs don't support sparse\u001b[39;00m\n\u001b[32m    460\u001b[39m     \u001b[38;5;28;01mfor\u001b[39;00m i \u001b[38;5;129;01min\u001b[39;00m \u001b[38;5;28mrange\u001b[39m(\u001b[38;5;28mlen\u001b[39m(device_params)):\n",
      "\u001b[31mKeyboardInterrupt\u001b[39m: "
     ]
    },
    {
     "ename": "",
     "evalue": "",
     "output_type": "error",
     "traceback": [
      "\u001b[1;31mThe Kernel crashed while executing code in the current cell or a previous cell. \n",
      "\u001b[1;31mPlease review the code in the cell(s) to identify a possible cause of the failure. \n",
      "\u001b[1;31mClick <a href='https://aka.ms/vscodeJupyterKernelCrash'>here</a> for more info. \n",
      "\u001b[1;31mView Jupyter <a href='command:jupyter.viewOutput'>log</a> for further details."
     ]
    }
   ],
   "source": [
    "retry_failed_trials(study,objective)"
   ]
  }
 ],
 "metadata": {
  "kernelspec": {
   "display_name": "Python 3 (ipykernel)",
   "language": "python",
   "name": "python3"
  },
  "language_info": {
   "codemirror_mode": {
    "name": "ipython",
    "version": 3
   },
   "file_extension": ".py",
   "mimetype": "text/x-python",
   "name": "python",
   "nbconvert_exporter": "python",
   "pygments_lexer": "ipython3",
   "version": "3.13.5"
  }
 },
 "nbformat": 4,
 "nbformat_minor": 5
}
